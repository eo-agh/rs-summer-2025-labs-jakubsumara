{
 "cells": [
  {
   "cell_type": "code",
   "execution_count": null,
   "metadata": {},
   "outputs": [
    {
     "data": {
      "text/html": [
       "\n",
       "            <style>\n",
       "                .geemap-dark {\n",
       "                    --jp-widgets-color: white;\n",
       "                    --jp-widgets-label-color: white;\n",
       "                    --jp-ui-font-color1: white;\n",
       "                    --jp-layout-color2: #454545;\n",
       "                    background-color: #383838;\n",
       "                }\n",
       "\n",
       "                .geemap-dark .jupyter-button {\n",
       "                    --jp-layout-color3: #383838;\n",
       "                }\n",
       "\n",
       "                .geemap-colab {\n",
       "                    background-color: var(--colab-primary-surface-color, white);\n",
       "                }\n",
       "\n",
       "                .geemap-colab .jupyter-button {\n",
       "                    --jp-layout-color3: var(--colab-primary-surface-color, white);\n",
       "                }\n",
       "            </style>\n",
       "            "
      ],
      "text/plain": [
       "<IPython.core.display.HTML object>"
      ]
     },
     "metadata": {},
     "output_type": "display_data"
    },
    {
     "data": {
      "application/vnd.jupyter.widget-view+json": {
       "model_id": "aaaf2bbfc92949028bcf778e984abfb2",
       "version_major": 2,
       "version_minor": 0
      },
      "text/plain": [
       "Map(center=[50.09997336373202, 19.899999999999498], controls=(WidgetControl(options=['position', 'transparent_…"
      ]
     },
     "execution_count": 36,
     "metadata": {},
     "output_type": "execute_result"
    }
   ],
   "source": [
    "import ee\n",
    "import geemap\n",
    "ee.Initialize(project='ee-jsumara')\n",
    "from geoapps.lab03.cloud_mosaic import create_cloud_free_mosaic\n",
    "start_date = '2023-06-01'\n",
    "end_date = '2023-09-01'\n",
    "\n",
    "aoi = ee.Geometry.Rectangle([19.8, 50.0, 20.0, 50.2])\n",
    "mosaic = create_cloud_free_mosaic(aoi, start_date, end_date)\n",
    "# Create mosaic using the best (least cloudy) pixels\n",
    "true_color_params = {'bands': ['B4', 'B3', 'B2'], 'min': 0, 'max': 3000}\n",
    "\n",
    "centroid = aoi.centroid()\n",
    "m = geemap.Map(center=[centroid.getInfo()['coordinates'][1], centroid.getInfo()['coordinates'][0]], zoom=10)\n",
    "m.addLayer(mosaic, true_color_params, \"Mosaic\")\n",
    "m"
   ]
  }
 ],
 "metadata": {
  "kernelspec": {
   "display_name": "eo_lab",
   "language": "python",
   "name": "python3"
  },
  "language_info": {
   "codemirror_mode": {
    "name": "ipython",
    "version": 3
   },
   "file_extension": ".py",
   "mimetype": "text/x-python",
   "name": "python",
   "nbconvert_exporter": "python",
   "pygments_lexer": "ipython3",
   "version": "3.10.16"
  }
 },
 "nbformat": 4,
 "nbformat_minor": 2
}
