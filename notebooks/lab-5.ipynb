{
 "cells": [
  {
   "cell_type": "markdown",
   "id": "0f11c463",
   "metadata": {},
   "source": [
    "# Lab 5: Land Surface Temperature using CORINE-based Emissivity"
   ]
  },
  {
   "cell_type": "markdown",
   "id": "290155fd",
   "metadata": {},
   "source": [
    "## 🎯 Objectives\n",
    "In this exercise, you will:\n",
    "- Select a cloud-free Landsat 8 images from 2013 and 2023 (or different if you're sure that you'll spot a difference in land cover)\n",
    "- Calculate Brightness Temperature (TB) from Band 10.\n",
    "- Load CORINE Land Cover data and assign emissivity values to each land cover class.\n",
    "- Use the Planck-based formula to calculate Land Surface Temperature (LST).\n",
    "- Visualize and interpret the results."
   ]
  },
  {
   "cell_type": "markdown",
   "id": "16d50ca3",
   "metadata": {},
   "source": [
    "## Step 1: Define Area of Interest (AOI)\n",
    "- Use coordinates around Reduta street in Kraków.\n",
    "- Create a polygon or rectangle using `ee.Geometry.Polygon`."
   ]
  },
  {
   "cell_type": "code",
   "execution_count": 1,
   "id": "9a13c0ee",
   "metadata": {},
   "outputs": [
    {
     "data": {
      "application/vnd.jupyter.widget-view+json": {
       "model_id": "919956443b53456da3f26e5deb3c492a",
       "version_major": 2,
       "version_minor": 0
      },
      "text/plain": [
       "Map(center=[50.095, 19.985], controls=(WidgetControl(options=['position', 'transparent_bg'], widget=SearchData…"
      ]
     },
     "execution_count": 1,
     "metadata": {},
     "output_type": "execute_result"
    }
   ],
   "source": [
    "import ee\n",
    "import geemap\n",
    "ee.Initialize(project='ee-jsumara')\n",
    "aoi = ee.Geometry.Rectangle([19.9762,50.092,19.9889,50.0986]) \n",
    "Map = geemap.Map(center=(50.095, 19.985), zoom=15)\n",
    "Map.addLayer(aoi, {'color': 'red'}, \"AOI\")\n",
    "Map"
   ]
  },
  {
   "cell_type": "markdown",
   "id": "116de1cc",
   "metadata": {},
   "source": [
    "## Step 2: Load Landsat 8 imagery for the dates you've picked\n",
    "- Filter for low cloud cover (< 20%)\n",
    "- Select Band 10 and convert to TB using: `TB = ST_B10 * 0.00341802 + 149.0`"
   ]
  },
  {
   "cell_type": "code",
   "execution_count": null,
   "id": "6f92d6f8",
   "metadata": {},
   "outputs": [
    {
     "data": {
      "text/html": [
       "\n",
       "            <style>\n",
       "                .geemap-dark {\n",
       "                    --jp-widgets-color: white;\n",
       "                    --jp-widgets-label-color: white;\n",
       "                    --jp-ui-font-color1: white;\n",
       "                    --jp-layout-color2: #454545;\n",
       "                    background-color: #383838;\n",
       "                }\n",
       "\n",
       "                .geemap-dark .jupyter-button {\n",
       "                    --jp-layout-color3: #383838;\n",
       "                }\n",
       "\n",
       "                .geemap-colab {\n",
       "                    background-color: var(--colab-primary-surface-color, white);\n",
       "                }\n",
       "\n",
       "                .geemap-colab .jupyter-button {\n",
       "                    --jp-layout-color3: var(--colab-primary-surface-color, white);\n",
       "                }\n",
       "            </style>\n",
       "            "
      ],
      "text/plain": [
       "<IPython.core.display.HTML object>"
      ]
     },
     "metadata": {},
     "output_type": "display_data"
    },
    {
     "data": {
      "application/vnd.jupyter.widget-view+json": {
       "model_id": "94b91ee9b2ec48a38878080f6cd33903",
       "version_major": 2,
       "version_minor": 0
      },
      "text/plain": [
       "Map(center=[50.095300097386605, 19.982549999987466], controls=(WidgetControl(options=['position', 'transparent…"
      ]
     },
     "execution_count": 2,
     "metadata": {},
     "output_type": "execute_result"
    }
   ],
   "source": [
    "landsat_2013 = ee.ImageCollection('LANDSAT/LC08/C02/T1_L2') \\\n",
    "    .filterBounds(aoi) \\\n",
    "    .filterDate('2013-04-01', '2013-08-31') \\\n",
    "    .filterMetadata('CLOUD_COVER', 'less_than', 20) \\\n",
    "    .sort('CLOUD_COVER') \\\n",
    "    .map(lambda img: img.clip(aoi))\n",
    "\n",
    "\n",
    "landsat_2023 = ee.ImageCollection('LANDSAT/LC08/C02/T1_L2') \\\n",
    "    .filterBounds(aoi) \\\n",
    "    .filterDate('2023-04-01', '2023-08-31') \\\n",
    "    .filterMetadata('CLOUD_COVER', 'less_than', 20) \\\n",
    "    .sort('CLOUD_COVER') \\\n",
    "    .map(lambda img: img.clip(aoi))\n",
    "\n",
    "\n",
    "image_2013 = landsat_2013.first()\n",
    "tb_2013 = image_2013.select('ST_B10').multiply(0.00341802).add(149).rename('TB')\n",
    "\n",
    "image_2023 = landsat_2023.first()\n",
    "tb_2023 = image_2023.select('ST_B10').multiply(0.00341802).add(149).rename('TB') \n",
    "\n",
    "tb_vis_params = {\n",
    "    'min': 290,  # min temp\n",
    "    'max': 320,  # max temp\n",
    "    'palette': ['blue', 'green', 'yellow', 'red'] \n",
    "}\n",
    "\n",
    "Map = geemap.Map()\n",
    "Map.centerObject(aoi, zoom=15)\n",
    "Map.addLayer(tb_2013, tb_vis_params, 'TB 2013')\n",
    "Map.addLayer(tb_2023, tb_vis_params, 'TB 2023')\n",
    "Map"
   ]
  },
  {
   "cell_type": "markdown",
   "id": "57c2c4ea",
   "metadata": {},
   "source": [
    "## Step 3: Load CORINE Land Cover data\n",
    "- Use dataset `COPERNICUS/CORINE/V20/100m/2018`\n",
    "- Clip it to your AOI"
   ]
  },
  {
   "cell_type": "code",
   "execution_count": 5,
   "id": "1f560e7e",
   "metadata": {},
   "outputs": [
    {
     "data": {
      "text/html": [
       "\n",
       "            <style>\n",
       "                .geemap-dark {\n",
       "                    --jp-widgets-color: white;\n",
       "                    --jp-widgets-label-color: white;\n",
       "                    --jp-ui-font-color1: white;\n",
       "                    --jp-layout-color2: #454545;\n",
       "                    background-color: #383838;\n",
       "                }\n",
       "\n",
       "                .geemap-dark .jupyter-button {\n",
       "                    --jp-layout-color3: #383838;\n",
       "                }\n",
       "\n",
       "                .geemap-colab {\n",
       "                    background-color: var(--colab-primary-surface-color, white);\n",
       "                }\n",
       "\n",
       "                .geemap-colab .jupyter-button {\n",
       "                    --jp-layout-color3: var(--colab-primary-surface-color, white);\n",
       "                }\n",
       "            </style>\n",
       "            "
      ],
      "text/plain": [
       "<IPython.core.display.HTML object>"
      ]
     },
     "metadata": {},
     "output_type": "display_data"
    },
    {
     "name": "stdout",
     "output_type": "stream",
     "text": [
      "112 112\n"
     ]
    }
   ],
   "source": [
    "corine_2018 = ee.Image(\"COPERNICUS/CORINE/V20/100m/2018\").clip(aoi)\n",
    "corine_2012 = ee.Image(\"COPERNICUS/CORINE/V20/100m/2012\").clip(aoi)\n",
    "\n",
    "median_2012 = corine_2012.select('landcover').reduceRegion(\n",
    "    reducer=ee.Reducer.median(),\n",
    "    geometry=aoi,\n",
    "    scale=100,\n",
    "    maxPixels=1e9\n",
    ")\n",
    "\n",
    "median_2018 = corine_2018.select('landcover').reduceRegion(\n",
    "    reducer=ee.Reducer.median(),\n",
    "    geometry=aoi,\n",
    "    scale=100,\n",
    "    maxPixels=1e9\n",
    ")\n",
    "\n",
    "median_2012_value = median_2012.getInfo()['landcover']\n",
    "median_2018_value = median_2018.getInfo()['landcover']\n",
    "print(median_2012_value, median_2018_value)"
   ]
  },
  {
   "cell_type": "markdown",
   "id": "d9991cfc",
   "metadata": {},
   "source": [
    "## Step 4: Assign emissivity to CORINE classes\n",
    "- Use a dictionary for classes\n",
    "- Use `remap()` and optionally a default value"
   ]
  },
  {
   "cell_type": "code",
   "execution_count": null,
   "id": "3d027423",
   "metadata": {},
   "outputs": [
    {
     "data": {
      "text/html": [
       "\n",
       "            <style>\n",
       "                .geemap-dark {\n",
       "                    --jp-widgets-color: white;\n",
       "                    --jp-widgets-label-color: white;\n",
       "                    --jp-ui-font-color1: white;\n",
       "                    --jp-layout-color2: #454545;\n",
       "                    background-color: #383838;\n",
       "                }\n",
       "\n",
       "                .geemap-dark .jupyter-button {\n",
       "                    --jp-layout-color3: #383838;\n",
       "                }\n",
       "\n",
       "                .geemap-colab {\n",
       "                    background-color: var(--colab-primary-surface-color, white);\n",
       "                }\n",
       "\n",
       "                .geemap-colab .jupyter-button {\n",
       "                    --jp-layout-color3: var(--colab-primary-surface-color, white);\n",
       "                }\n",
       "            </style>\n",
       "            "
      ],
      "text/plain": [
       "<IPython.core.display.HTML object>"
      ]
     },
     "metadata": {},
     "output_type": "display_data"
    },
    {
     "data": {
      "text/html": [
       "<div><style>:root {\n",
       "  --font-color-primary: var(--jp-content-font-color0, rgba(0, 0, 0, 1));\n",
       "  --font-color-secondary: var(--jp-content-font-color2, rgba(0, 0, 0, 0.7));\n",
       "  --font-color-accent: rgba(123, 31, 162, 1);\n",
       "  --border-color: var(--jp-border-color2, #e0e0e0);\n",
       "  --background-color: var(--jp-layout-color0, white);\n",
       "  --background-color-row-even: var(--jp-layout-color1, white);\n",
       "  --background-color-row-odd: var(--jp-layout-color2, #eeeeee);\n",
       "}\n",
       "\n",
       "html[theme=\"dark\"],\n",
       "body[data-theme=\"dark\"],\n",
       "body.vscode-dark {\n",
       "  --font-color-primary: rgba(255, 255, 255, 1);\n",
       "  --font-color-secondary: rgba(255, 255, 255, 0.7);\n",
       "  --font-color-accent: rgb(173, 132, 190);\n",
       "  --border-color: #2e2e2e;\n",
       "  --background-color: #111111;\n",
       "  --background-color-row-even: #111111;\n",
       "  --background-color-row-odd: #313131;\n",
       "}\n",
       "\n",
       ".eerepr {\n",
       "  padding: 1em;\n",
       "  line-height: 1.5em;\n",
       "  min-width: 300px;\n",
       "  max-width: 1200px;\n",
       "  overflow-y: scroll;\n",
       "  max-height: 600px;\n",
       "  border: 1px solid var(--border-color);\n",
       "  font-family: monospace;\n",
       "  font-size: 14px;\n",
       "}\n",
       "\n",
       ".eerepr li {\n",
       "  list-style-type: none;\n",
       "  margin: 0;\n",
       "}\n",
       "\n",
       ".eerepr ul {\n",
       "  padding-left: 1.5em !important;\n",
       "  margin: 0;\n",
       "}\n",
       "\n",
       ".eerepr > ul {\n",
       "  padding-left: 0 !important;\n",
       "}\n",
       "\n",
       ".eerepr summary {\n",
       "  color: var(--font-color-secondary);\n",
       "  cursor: pointer;\n",
       "  margin: 0;\n",
       "}\n",
       "\n",
       ".eerepr summary:hover {\n",
       "  color: var(--font-color-primary);\n",
       "  background-color: var(--background-color-row-odd)\n",
       "}\n",
       "\n",
       ".ee-k {\n",
       "  color: var(--font-color-accent);\n",
       "  margin-right: 6px;\n",
       "}\n",
       "\n",
       ".ee-v {\n",
       "  color: var(--font-color-primary);\n",
       "}\n",
       "\n",
       ".eerepr details > summary::before {\n",
       "  content: '▼';\n",
       "  display: inline-block;\n",
       "  margin-right: 6px;\n",
       "  transition: transform 0.2s;\n",
       "  transform: rotate(-90deg);\n",
       "}\n",
       "\n",
       ".eerepr details[open] > summary::before {\n",
       "  transform: rotate(0deg);\n",
       "}\n",
       "\n",
       ".eerepr details summary::-webkit-details-marker {\n",
       "  display:none;\n",
       "}\n",
       "\n",
       ".eerepr details summary {\n",
       "  list-style-type: none;\n",
       "}\n",
       "</style><div class='eerepr'><ul><li><details><summary>Image COPERNICUS/CORINE/V20/100m/2018 (1 band)</summary><ul><li><span class='ee-k'>type:</span><span class='ee-v'>Image</span></li><li><span class='ee-k'>id:</span><span class='ee-v'>COPERNICUS/CORINE/V20/100m/2018</span></li><li><span class='ee-k'>version:</span><span class='ee-v'>1578598451411424</span></li><li><details><summary>bands: List (1 element)</summary><ul><li><details><summary>0: \"emissivity\", double, EPSG:3035, 11x9 px</summary><ul><li><span class='ee-k'>id:</span><span class='ee-v'>emissivity</span></li><li><span class='ee-k'>crs:</span><span class='ee-v'>EPSG:3035</span></li><li><details><summary>crs_transform: [100, 0, 900000, 0, -100, 5500000]</summary><ul><li><span class='ee-k'>0:</span><span class='ee-v'>100</span></li><li><span class='ee-k'>1:</span><span class='ee-v'>0</span></li><li><span class='ee-k'>2:</span><span class='ee-v'>900000</span></li><li><span class='ee-k'>3:</span><span class='ee-v'>0</span></li><li><span class='ee-k'>4:</span><span class='ee-v'>-100</span></li><li><span class='ee-k'>5:</span><span class='ee-v'>5500000</span></li></ul></details></li><li><details><summary>data_type: double</summary><ul><li><span class='ee-k'>type:</span><span class='ee-v'>PixelType</span></li><li><span class='ee-k'>max:</span><span class='ee-v'>0.98</span></li><li><span class='ee-k'>min:</span><span class='ee-v'>0.91</span></li><li><span class='ee-k'>precision:</span><span class='ee-v'>double</span></li></ul></details></li><li><details><summary>dimensions: [11, 9]</summary><ul><li><span class='ee-k'>0:</span><span class='ee-v'>11</span></li><li><span class='ee-k'>1:</span><span class='ee-v'>9</span></li></ul></details></li><li><details><summary>origin: [41323, 24529]</summary><ul><li><span class='ee-k'>0:</span><span class='ee-v'>41323</span></li><li><span class='ee-k'>1:</span><span class='ee-v'>24529</span></li></ul></details></li></ul></details></li></ul></details></li><li><details><summary>properties: Object (8 properties)</summary><ul><li><details><summary>landcover_class_names: List (44 elements)</summary><ul><li><span class='ee-k'>0:</span><span class='ee-v'>Artificial surfaces; urban fabric; continuous urban fabric</span></li><li><span class='ee-k'>1:</span><span class='ee-v'>Artificial surfaces; urban fabric; discontinuous urban fabric</span></li><li><span class='ee-k'>2:</span><span class='ee-v'>Artificial surfaces; industrial, commercial, and transport units; industrial or commercial units</span></li><li><span class='ee-k'>3:</span><span class='ee-v'>Artificial surfaces; industrial, commercial, and transport units; road and rail networks and associated land</span></li><li><span class='ee-k'>4:</span><span class='ee-v'>Artificial surfaces; industrial, commercial, and transport units; port areas</span></li><li><span class='ee-k'>5:</span><span class='ee-v'>Artificial surfaces; industrial, commercial, and transport units; airports</span></li><li><span class='ee-k'>6:</span><span class='ee-v'>Artificial surfaces; mine, dump, and construction sites; mineral extraction sites</span></li><li><span class='ee-k'>7:</span><span class='ee-v'>Artificial surfaces; mine, dump, and construction sites; dump sites</span></li><li><span class='ee-k'>8:</span><span class='ee-v'>Artificial surfaces; mine, dump, and construction sites; construction sites</span></li><li><span class='ee-k'>9:</span><span class='ee-v'>Artificial surfaces; artificial, non-agricultural vegetated areas; green urban areas</span></li><li><span class='ee-k'>10:</span><span class='ee-v'>Artificial surfaces; artificial, non-agricultural vegetated areas; sport and leisure facilities</span></li><li><span class='ee-k'>11:</span><span class='ee-v'>Agricultural areas; arable land; non-irrigated arable land</span></li><li><span class='ee-k'>12:</span><span class='ee-v'>Agricultural areas; arable land; permanently irrigated land</span></li><li><span class='ee-k'>13:</span><span class='ee-v'>Agricultural areas; arable land; rice fields</span></li><li><span class='ee-k'>14:</span><span class='ee-v'>Agricultural areas; permanent crops; vineyards</span></li><li><span class='ee-k'>15:</span><span class='ee-v'>Agricultural areas; permanent crops; fruit trees and berry plantations</span></li><li><span class='ee-k'>16:</span><span class='ee-v'>Agricultural areas; permanent crops; olive groves</span></li><li><span class='ee-k'>17:</span><span class='ee-v'>Agricultural areas; pastures; pastures</span></li><li><span class='ee-k'>18:</span><span class='ee-v'>Agricultural areas; heterogeneous agricultural areas; annual crops associated with permanent crops</span></li><li><span class='ee-k'>19:</span><span class='ee-v'>Agricultural areas; heterogeneous agricultural areas; complex cultivation patterns</span></li><li><span class='ee-k'>20:</span><span class='ee-v'>Agricultural areas; heterogeneous agricultural areas; land principally occupied by agriculture, with significant areas of natural vegetation</span></li><li><span class='ee-k'>21:</span><span class='ee-v'>Agricultural areas; heterogeneous agricultural areas; agro-forestry areas</span></li><li><span class='ee-k'>22:</span><span class='ee-v'>Forest and semi natural areas; forests; broad-leaved forest</span></li><li><span class='ee-k'>23:</span><span class='ee-v'>Forest and semi natural areas; forests; coniferous forest</span></li><li><span class='ee-k'>24:</span><span class='ee-v'>Forest and semi natural areas; forests; mixed forest</span></li><li><span class='ee-k'>25:</span><span class='ee-v'>Forest and semi natural areas; scrub and/or herbaceous vegetation associations; natural grasslands</span></li><li><span class='ee-k'>26:</span><span class='ee-v'>Forest and semi natural areas; scrub and/or herbaceous vegetation associations; moors and heathland</span></li><li><span class='ee-k'>27:</span><span class='ee-v'>Forest and semi natural areas; scrub and/or herbaceous vegetation associations; sclerophyllous vegetation</span></li><li><span class='ee-k'>28:</span><span class='ee-v'>Forest and semi natural areas; scrub and/or herbaceous vegetation associations; transitional woodland-shrub</span></li><li><span class='ee-k'>29:</span><span class='ee-v'>Forest and semi natural areas; open spaces with little or no vegetation; beaches, dunes, sands</span></li><li><span class='ee-k'>30:</span><span class='ee-v'>Forest and semi natural areas; open spaces with little or no vegetation; bare rocks</span></li><li><span class='ee-k'>31:</span><span class='ee-v'>Forest and semi natural areas; open spaces with little or no vegetation; sparsely vegetated areas</span></li><li><span class='ee-k'>32:</span><span class='ee-v'>Forest and semi natural areas; open spaces with little or no vegetation; burnt areas</span></li><li><span class='ee-k'>33:</span><span class='ee-v'>Forest and semi natural areas; open spaces with little or no vegetation; glaciers and perpetual snow</span></li><li><span class='ee-k'>34:</span><span class='ee-v'>Wetlands; inland wetlands; inland marshes</span></li><li><span class='ee-k'>35:</span><span class='ee-v'>Wetlands; inland wetlands; peat bogs</span></li><li><span class='ee-k'>36:</span><span class='ee-v'>Wetlands; maritime wetlands; salt marshes</span></li><li><span class='ee-k'>37:</span><span class='ee-v'>Wetlands; maritime wetlands; salines</span></li><li><span class='ee-k'>38:</span><span class='ee-v'>Wetlands; maritime wetlands; intertidal flats</span></li><li><span class='ee-k'>39:</span><span class='ee-v'>Water bodies; inland waters; water courses</span></li><li><span class='ee-k'>40:</span><span class='ee-v'>Water bodies; inland waters; water bodies</span></li><li><span class='ee-k'>41:</span><span class='ee-v'>Water bodies; marine waters; coastal lagoons</span></li><li><span class='ee-k'>42:</span><span class='ee-v'>Water bodies; marine waters; estuaries</span></li><li><span class='ee-k'>43:</span><span class='ee-v'>Water bodies; marine waters; sea and ocean</span></li></ul></details></li><li><details><summary>landcover_class_palette: List (44 elements)</summary><ul><li><span class='ee-k'>0:</span><span class='ee-v'>E6004D</span></li><li><span class='ee-k'>1:</span><span class='ee-v'>FF0000</span></li><li><span class='ee-k'>2:</span><span class='ee-v'>CC4DF2</span></li><li><span class='ee-k'>3:</span><span class='ee-v'>CC0000</span></li><li><span class='ee-k'>4:</span><span class='ee-v'>E6CCCC</span></li><li><span class='ee-k'>5:</span><span class='ee-v'>E6CCE6</span></li><li><span class='ee-k'>6:</span><span class='ee-v'>A600CC</span></li><li><span class='ee-k'>7:</span><span class='ee-v'>A64DCC</span></li><li><span class='ee-k'>8:</span><span class='ee-v'>FF4DFF</span></li><li><span class='ee-k'>9:</span><span class='ee-v'>FFA6FF</span></li><li><span class='ee-k'>10:</span><span class='ee-v'>FFE6FF</span></li><li><span class='ee-k'>11:</span><span class='ee-v'>FFFFA8</span></li><li><span class='ee-k'>12:</span><span class='ee-v'>FFFF00</span></li><li><span class='ee-k'>13:</span><span class='ee-v'>E6E600</span></li><li><span class='ee-k'>14:</span><span class='ee-v'>E68000</span></li><li><span class='ee-k'>15:</span><span class='ee-v'>F2A64D</span></li><li><span class='ee-k'>16:</span><span class='ee-v'>E6A600</span></li><li><span class='ee-k'>17:</span><span class='ee-v'>E6E64D</span></li><li><span class='ee-k'>18:</span><span class='ee-v'>FFE6A6</span></li><li><span class='ee-k'>19:</span><span class='ee-v'>FFE64D</span></li><li><span class='ee-k'>20:</span><span class='ee-v'>E6CC4D</span></li><li><span class='ee-k'>21:</span><span class='ee-v'>F2CCA6</span></li><li><span class='ee-k'>22:</span><span class='ee-v'>80FF00</span></li><li><span class='ee-k'>23:</span><span class='ee-v'>00A600</span></li><li><span class='ee-k'>24:</span><span class='ee-v'>4DFF00</span></li><li><span class='ee-k'>25:</span><span class='ee-v'>CCF24D</span></li><li><span class='ee-k'>26:</span><span class='ee-v'>A6FF80</span></li><li><span class='ee-k'>27:</span><span class='ee-v'>A6E64D</span></li><li><span class='ee-k'>28:</span><span class='ee-v'>A6F200</span></li><li><span class='ee-k'>29:</span><span class='ee-v'>E6E6E6</span></li><li><span class='ee-k'>30:</span><span class='ee-v'>CCCCCC</span></li><li><span class='ee-k'>31:</span><span class='ee-v'>CCFFCC</span></li><li><span class='ee-k'>32:</span><span class='ee-v'>000000</span></li><li><span class='ee-k'>33:</span><span class='ee-v'>A6E6CC</span></li><li><span class='ee-k'>34:</span><span class='ee-v'>A6A6FF</span></li><li><span class='ee-k'>35:</span><span class='ee-v'>4D4DFF</span></li><li><span class='ee-k'>36:</span><span class='ee-v'>CCCCFF</span></li><li><span class='ee-k'>37:</span><span class='ee-v'>E6E6FF</span></li><li><span class='ee-k'>38:</span><span class='ee-v'>A6A6E6</span></li><li><span class='ee-k'>39:</span><span class='ee-v'>00CCF2</span></li><li><span class='ee-k'>40:</span><span class='ee-v'>80F2E6</span></li><li><span class='ee-k'>41:</span><span class='ee-v'>00FFA6</span></li><li><span class='ee-k'>42:</span><span class='ee-v'>A6FFE6</span></li><li><span class='ee-k'>43:</span><span class='ee-v'>E6F2FF</span></li></ul></details></li><li><details><summary>landcover_class_values: List (44 elements)</summary><ul><li><span class='ee-k'>0:</span><span class='ee-v'>111</span></li><li><span class='ee-k'>1:</span><span class='ee-v'>112</span></li><li><span class='ee-k'>2:</span><span class='ee-v'>121</span></li><li><span class='ee-k'>3:</span><span class='ee-v'>122</span></li><li><span class='ee-k'>4:</span><span class='ee-v'>123</span></li><li><span class='ee-k'>5:</span><span class='ee-v'>124</span></li><li><span class='ee-k'>6:</span><span class='ee-v'>131</span></li><li><span class='ee-k'>7:</span><span class='ee-v'>132</span></li><li><span class='ee-k'>8:</span><span class='ee-v'>133</span></li><li><span class='ee-k'>9:</span><span class='ee-v'>141</span></li><li><span class='ee-k'>10:</span><span class='ee-v'>142</span></li><li><span class='ee-k'>11:</span><span class='ee-v'>211</span></li><li><span class='ee-k'>12:</span><span class='ee-v'>212</span></li><li><span class='ee-k'>13:</span><span class='ee-v'>213</span></li><li><span class='ee-k'>14:</span><span class='ee-v'>221</span></li><li><span class='ee-k'>15:</span><span class='ee-v'>222</span></li><li><span class='ee-k'>16:</span><span class='ee-v'>223</span></li><li><span class='ee-k'>17:</span><span class='ee-v'>231</span></li><li><span class='ee-k'>18:</span><span class='ee-v'>241</span></li><li><span class='ee-k'>19:</span><span class='ee-v'>242</span></li><li><span class='ee-k'>20:</span><span class='ee-v'>243</span></li><li><span class='ee-k'>21:</span><span class='ee-v'>244</span></li><li><span class='ee-k'>22:</span><span class='ee-v'>311</span></li><li><span class='ee-k'>23:</span><span class='ee-v'>312</span></li><li><span class='ee-k'>24:</span><span class='ee-v'>313</span></li><li><span class='ee-k'>25:</span><span class='ee-v'>321</span></li><li><span class='ee-k'>26:</span><span class='ee-v'>322</span></li><li><span class='ee-k'>27:</span><span class='ee-v'>323</span></li><li><span class='ee-k'>28:</span><span class='ee-v'>324</span></li><li><span class='ee-k'>29:</span><span class='ee-v'>331</span></li><li><span class='ee-k'>30:</span><span class='ee-v'>332</span></li><li><span class='ee-k'>31:</span><span class='ee-v'>333</span></li><li><span class='ee-k'>32:</span><span class='ee-v'>334</span></li><li><span class='ee-k'>33:</span><span class='ee-v'>335</span></li><li><span class='ee-k'>34:</span><span class='ee-v'>411</span></li><li><span class='ee-k'>35:</span><span class='ee-v'>412</span></li><li><span class='ee-k'>36:</span><span class='ee-v'>421</span></li><li><span class='ee-k'>37:</span><span class='ee-v'>422</span></li><li><span class='ee-k'>38:</span><span class='ee-v'>423</span></li><li><span class='ee-k'>39:</span><span class='ee-v'>511</span></li><li><span class='ee-k'>40:</span><span class='ee-v'>512</span></li><li><span class='ee-k'>41:</span><span class='ee-v'>521</span></li><li><span class='ee-k'>42:</span><span class='ee-v'>522</span></li><li><span class='ee-k'>43:</span><span class='ee-v'>523</span></li></ul></details></li><li><span class='ee-k'>system:asset_size:</span><span class='ee-v'>134244151</span></li><li><details><summary>system:footprint: Polygon (5 vertices)</summary><ul><li><span class='ee-k'>type:</span><span class='ee-v'>Polygon</span></li><li><details><summary>coordinates: List (1 element)</summary><ul><li><details><summary>0: List (5 elements)</summary><ul><li><details><summary>0: [19.976200000000002, 50.092000000000006]</summary><ul><li><span class='ee-k'>0:</span><span class='ee-v'>19.976200000000002</span></li><li><span class='ee-k'>1:</span><span class='ee-v'>50.092000000000006</span></li></ul></details></li><li><details><summary>1: [19.988899999999997, 50.092000000000006]</summary><ul><li><span class='ee-k'>0:</span><span class='ee-v'>19.988899999999997</span></li><li><span class='ee-k'>1:</span><span class='ee-v'>50.092000000000006</span></li></ul></details></li><li><details><summary>2: [19.988899999999997, 50.0986]</summary><ul><li><span class='ee-k'>0:</span><span class='ee-v'>19.988899999999997</span></li><li><span class='ee-k'>1:</span><span class='ee-v'>50.0986</span></li></ul></details></li><li><details><summary>3: [19.976200000000002, 50.0986]</summary><ul><li><span class='ee-k'>0:</span><span class='ee-v'>19.976200000000002</span></li><li><span class='ee-k'>1:</span><span class='ee-v'>50.0986</span></li></ul></details></li><li><details><summary>4: [19.976200000000002, 50.092000000000006]</summary><ul><li><span class='ee-k'>0:</span><span class='ee-v'>19.976200000000002</span></li><li><span class='ee-k'>1:</span><span class='ee-v'>50.092000000000006</span></li></ul></details></li></ul></details></li></ul></details></li></ul></details></li><li><span class='ee-k'>system:index:</span><span class='ee-v'>2018</span></li><li><span class='ee-k'>system:time_end:</span><span class='ee-v'>1546300800000</span></li><li><span class='ee-k'>system:time_start:</span><span class='ee-v'>1483228800000</span></li></ul></details></li></ul></details></li></ul></div></div>"
      ],
      "text/plain": [
       "<ee.image.Image at 0x234f62b4c70>"
      ]
     },
     "execution_count": 7,
     "metadata": {},
     "output_type": "execute_result"
    }
   ],
   "source": [
    "# Create emissivity image\n",
    "\n",
    "emissivity_dict = {\n",
    "    111: 0.92,  # Continuous urban fabric\n",
    "    112: 0.92,  # Discontinuous urban fabric\n",
    "    121: 0.91,  # Industrial or commercial units\n",
    "    211: 0.96,  # Non-irrigated arable land\n",
    "    311: 0.98,  # Forests\n",
    "    412: 0.97,  # Peat bogs\n",
    "    324: 0.96,  # Transitional woodland-shrub\n",
    "    231: 0.97   # Pastures\n",
    "}\n",
    "\n",
    "emissivity = corine_2018.select('landcover').remap(list(emissivity_dict.keys()), list(emissivity_dict.values())).rename('emissivity')\n",
    "\n",
    "emissivity"
   ]
  },
  {
   "cell_type": "code",
   "execution_count": 8,
   "id": "4ea81196",
   "metadata": {},
   "outputs": [
    {
     "data": {
      "text/html": [
       "\n",
       "            <style>\n",
       "                .geemap-dark {\n",
       "                    --jp-widgets-color: white;\n",
       "                    --jp-widgets-label-color: white;\n",
       "                    --jp-ui-font-color1: white;\n",
       "                    --jp-layout-color2: #454545;\n",
       "                    background-color: #383838;\n",
       "                }\n",
       "\n",
       "                .geemap-dark .jupyter-button {\n",
       "                    --jp-layout-color3: #383838;\n",
       "                }\n",
       "\n",
       "                .geemap-colab {\n",
       "                    background-color: var(--colab-primary-surface-color, white);\n",
       "                }\n",
       "\n",
       "                .geemap-colab .jupyter-button {\n",
       "                    --jp-layout-color3: var(--colab-primary-surface-color, white);\n",
       "                }\n",
       "            </style>\n",
       "            "
      ],
      "text/plain": [
       "<IPython.core.display.HTML object>"
      ]
     },
     "metadata": {},
     "output_type": "display_data"
    },
    {
     "data": {
      "text/html": [
       "<div><style>:root {\n",
       "  --font-color-primary: var(--jp-content-font-color0, rgba(0, 0, 0, 1));\n",
       "  --font-color-secondary: var(--jp-content-font-color2, rgba(0, 0, 0, 0.7));\n",
       "  --font-color-accent: rgba(123, 31, 162, 1);\n",
       "  --border-color: var(--jp-border-color2, #e0e0e0);\n",
       "  --background-color: var(--jp-layout-color0, white);\n",
       "  --background-color-row-even: var(--jp-layout-color1, white);\n",
       "  --background-color-row-odd: var(--jp-layout-color2, #eeeeee);\n",
       "}\n",
       "\n",
       "html[theme=\"dark\"],\n",
       "body[data-theme=\"dark\"],\n",
       "body.vscode-dark {\n",
       "  --font-color-primary: rgba(255, 255, 255, 1);\n",
       "  --font-color-secondary: rgba(255, 255, 255, 0.7);\n",
       "  --font-color-accent: rgb(173, 132, 190);\n",
       "  --border-color: #2e2e2e;\n",
       "  --background-color: #111111;\n",
       "  --background-color-row-even: #111111;\n",
       "  --background-color-row-odd: #313131;\n",
       "}\n",
       "\n",
       ".eerepr {\n",
       "  padding: 1em;\n",
       "  line-height: 1.5em;\n",
       "  min-width: 300px;\n",
       "  max-width: 1200px;\n",
       "  overflow-y: scroll;\n",
       "  max-height: 600px;\n",
       "  border: 1px solid var(--border-color);\n",
       "  font-family: monospace;\n",
       "  font-size: 14px;\n",
       "}\n",
       "\n",
       ".eerepr li {\n",
       "  list-style-type: none;\n",
       "  margin: 0;\n",
       "}\n",
       "\n",
       ".eerepr ul {\n",
       "  padding-left: 1.5em !important;\n",
       "  margin: 0;\n",
       "}\n",
       "\n",
       ".eerepr > ul {\n",
       "  padding-left: 0 !important;\n",
       "}\n",
       "\n",
       ".eerepr summary {\n",
       "  color: var(--font-color-secondary);\n",
       "  cursor: pointer;\n",
       "  margin: 0;\n",
       "}\n",
       "\n",
       ".eerepr summary:hover {\n",
       "  color: var(--font-color-primary);\n",
       "  background-color: var(--background-color-row-odd)\n",
       "}\n",
       "\n",
       ".ee-k {\n",
       "  color: var(--font-color-accent);\n",
       "  margin-right: 6px;\n",
       "}\n",
       "\n",
       ".ee-v {\n",
       "  color: var(--font-color-primary);\n",
       "}\n",
       "\n",
       ".eerepr details > summary::before {\n",
       "  content: '▼';\n",
       "  display: inline-block;\n",
       "  margin-right: 6px;\n",
       "  transition: transform 0.2s;\n",
       "  transform: rotate(-90deg);\n",
       "}\n",
       "\n",
       ".eerepr details[open] > summary::before {\n",
       "  transform: rotate(0deg);\n",
       "}\n",
       "\n",
       ".eerepr details summary::-webkit-details-marker {\n",
       "  display:none;\n",
       "}\n",
       "\n",
       ".eerepr details summary {\n",
       "  list-style-type: none;\n",
       "}\n",
       "</style><div class='eerepr'><ul><li><details><summary>ImageCollection (2 elements)</summary><ul><li><span class='ee-k'>type:</span><span class='ee-v'>ImageCollection</span></li><li><details><summary>bands: []</summary><ul></ul></details></li><li><details><summary>features: List (2 elements)</summary><ul><li><details><summary>0: Image (3 bands)</summary><ul><li><span class='ee-k'>type:</span><span class='ee-v'>Image</span></li><li><details><summary>bands: List (3 elements)</summary><ul><li><details><summary>0: \"TB\", double, EPSG:32634, 31x26 px</summary><ul><li><span class='ee-k'>id:</span><span class='ee-v'>TB</span></li><li><span class='ee-k'>crs:</span><span class='ee-v'>EPSG:32634</span></li><li><details><summary>crs_transform: [30, 0, 304185, 0, -30, 5684415]</summary><ul><li><span class='ee-k'>0:</span><span class='ee-v'>30</span></li><li><span class='ee-k'>1:</span><span class='ee-v'>0</span></li><li><span class='ee-k'>2:</span><span class='ee-v'>304185</span></li><li><span class='ee-k'>3:</span><span class='ee-v'>0</span></li><li><span class='ee-k'>4:</span><span class='ee-v'>-30</span></li><li><span class='ee-k'>5:</span><span class='ee-v'>5684415</span></li></ul></details></li><li><details><summary>data_type: double</summary><ul><li><span class='ee-k'>type:</span><span class='ee-v'>PixelType</span></li><li><span class='ee-k'>max:</span><span class='ee-v'>372.9999407</span></li><li><span class='ee-k'>min:</span><span class='ee-v'>149</span></li><li><span class='ee-k'>precision:</span><span class='ee-v'>double</span></li></ul></details></li><li><details><summary>dimensions: [31, 26]</summary><ul><li><span class='ee-k'>0:</span><span class='ee-v'>31</span></li><li><span class='ee-k'>1:</span><span class='ee-v'>26</span></li></ul></details></li><li><details><summary>origin: [4086, 4477]</summary><ul><li><span class='ee-k'>0:</span><span class='ee-v'>4086</span></li><li><span class='ee-k'>1:</span><span class='ee-v'>4477</span></li></ul></details></li></ul></details></li><li><details><summary>1: \"emissivity\", double, EPSG:3035, 11x9 px</summary><ul><li><span class='ee-k'>id:</span><span class='ee-v'>emissivity</span></li><li><span class='ee-k'>crs:</span><span class='ee-v'>EPSG:3035</span></li><li><details><summary>crs_transform: [100, 0, 900000, 0, -100, 5500000]</summary><ul><li><span class='ee-k'>0:</span><span class='ee-v'>100</span></li><li><span class='ee-k'>1:</span><span class='ee-v'>0</span></li><li><span class='ee-k'>2:</span><span class='ee-v'>900000</span></li><li><span class='ee-k'>3:</span><span class='ee-v'>0</span></li><li><span class='ee-k'>4:</span><span class='ee-v'>-100</span></li><li><span class='ee-k'>5:</span><span class='ee-v'>5500000</span></li></ul></details></li><li><details><summary>data_type: double</summary><ul><li><span class='ee-k'>type:</span><span class='ee-v'>PixelType</span></li><li><span class='ee-k'>max:</span><span class='ee-v'>0.98</span></li><li><span class='ee-k'>min:</span><span class='ee-v'>0.91</span></li><li><span class='ee-k'>precision:</span><span class='ee-v'>double</span></li></ul></details></li><li><details><summary>dimensions: [11, 9]</summary><ul><li><span class='ee-k'>0:</span><span class='ee-v'>11</span></li><li><span class='ee-k'>1:</span><span class='ee-v'>9</span></li></ul></details></li><li><details><summary>origin: [41323, 24529]</summary><ul><li><span class='ee-k'>0:</span><span class='ee-v'>41323</span></li><li><span class='ee-k'>1:</span><span class='ee-v'>24529</span></li></ul></details></li></ul></details></li><li><details><summary>2: \"TB_1\", double, EPSG:32634, 31x26 px</summary><ul><li><span class='ee-k'>id:</span><span class='ee-v'>TB_1</span></li><li><span class='ee-k'>crs:</span><span class='ee-v'>EPSG:32634</span></li><li><details><summary>crs_transform: [30, 0, 304185, 0, -30, 5684415]</summary><ul><li><span class='ee-k'>0:</span><span class='ee-v'>30</span></li><li><span class='ee-k'>1:</span><span class='ee-v'>0</span></li><li><span class='ee-k'>2:</span><span class='ee-v'>304185</span></li><li><span class='ee-k'>3:</span><span class='ee-v'>0</span></li><li><span class='ee-k'>4:</span><span class='ee-v'>-30</span></li><li><span class='ee-k'>5:</span><span class='ee-v'>5684415</span></li></ul></details></li><li><details><summary>data_type: double</summary><ul><li><span class='ee-k'>type:</span><span class='ee-v'>PixelType</span></li><li><span class='ee-k'>max:</span><span class='ee-v'>372.9999407</span></li><li><span class='ee-k'>min:</span><span class='ee-v'>149</span></li><li><span class='ee-k'>precision:</span><span class='ee-v'>double</span></li></ul></details></li><li><details><summary>dimensions: [31, 26]</summary><ul><li><span class='ee-k'>0:</span><span class='ee-v'>31</span></li><li><span class='ee-k'>1:</span><span class='ee-v'>26</span></li></ul></details></li><li><details><summary>origin: [4086, 4477]</summary><ul><li><span class='ee-k'>0:</span><span class='ee-v'>4086</span></li><li><span class='ee-k'>1:</span><span class='ee-v'>4477</span></li></ul></details></li></ul></details></li></ul></details></li><li><details><summary>properties: Object (2 properties)</summary><ul><li><details><summary>system:footprint: Polygon (5 vertices)</summary><ul><li><span class='ee-k'>type:</span><span class='ee-v'>Polygon</span></li><li><details><summary>coordinates: List (1 element)</summary><ul><li><details><summary>0: List (5 elements)</summary><ul><li><details><summary>0: [19.976200000000002, 50.092000000000006]</summary><ul><li><span class='ee-k'>0:</span><span class='ee-v'>19.976200000000002</span></li><li><span class='ee-k'>1:</span><span class='ee-v'>50.092000000000006</span></li></ul></details></li><li><details><summary>1: [19.988899999999997, 50.092000000000006]</summary><ul><li><span class='ee-k'>0:</span><span class='ee-v'>19.988899999999997</span></li><li><span class='ee-k'>1:</span><span class='ee-v'>50.092000000000006</span></li></ul></details></li><li><details><summary>2: [19.988899999999997, 50.0986]</summary><ul><li><span class='ee-k'>0:</span><span class='ee-v'>19.988899999999997</span></li><li><span class='ee-k'>1:</span><span class='ee-v'>50.0986</span></li></ul></details></li><li><details><summary>3: [19.976200000000002, 50.0986]</summary><ul><li><span class='ee-k'>0:</span><span class='ee-v'>19.976200000000002</span></li><li><span class='ee-k'>1:</span><span class='ee-v'>50.0986</span></li></ul></details></li><li><details><summary>4: [19.976200000000002, 50.092000000000006]</summary><ul><li><span class='ee-k'>0:</span><span class='ee-v'>19.976200000000002</span></li><li><span class='ee-k'>1:</span><span class='ee-v'>50.092000000000006</span></li></ul></details></li></ul></details></li></ul></details></li></ul></details></li><li><span class='ee-k'>system:index:</span><span class='ee-v'>0</span></li></ul></details></li></ul></details></li><li><details><summary>1: Image (3 bands)</summary><ul><li><span class='ee-k'>type:</span><span class='ee-v'>Image</span></li><li><details><summary>bands: List (3 elements)</summary><ul><li><details><summary>0: \"TB\", double, EPSG:32634, 31x26 px</summary><ul><li><span class='ee-k'>id:</span><span class='ee-v'>TB</span></li><li><span class='ee-k'>crs:</span><span class='ee-v'>EPSG:32634</span></li><li><details><summary>crs_transform: [30, 0, 305685, 0, -30, 5690715]</summary><ul><li><span class='ee-k'>0:</span><span class='ee-v'>30</span></li><li><span class='ee-k'>1:</span><span class='ee-v'>0</span></li><li><span class='ee-k'>2:</span><span class='ee-v'>305685</span></li><li><span class='ee-k'>3:</span><span class='ee-v'>0</span></li><li><span class='ee-k'>4:</span><span class='ee-v'>-30</span></li><li><span class='ee-k'>5:</span><span class='ee-v'>5690715</span></li></ul></details></li><li><details><summary>data_type: double</summary><ul><li><span class='ee-k'>type:</span><span class='ee-v'>PixelType</span></li><li><span class='ee-k'>max:</span><span class='ee-v'>372.9999407</span></li><li><span class='ee-k'>min:</span><span class='ee-v'>149</span></li><li><span class='ee-k'>precision:</span><span class='ee-v'>double</span></li></ul></details></li><li><details><summary>dimensions: [31, 26]</summary><ul><li><span class='ee-k'>0:</span><span class='ee-v'>31</span></li><li><span class='ee-k'>1:</span><span class='ee-v'>26</span></li></ul></details></li><li><details><summary>origin: [4036, 4687]</summary><ul><li><span class='ee-k'>0:</span><span class='ee-v'>4036</span></li><li><span class='ee-k'>1:</span><span class='ee-v'>4687</span></li></ul></details></li></ul></details></li><li><details><summary>1: \"emissivity\", double, EPSG:3035, 11x9 px</summary><ul><li><span class='ee-k'>id:</span><span class='ee-v'>emissivity</span></li><li><span class='ee-k'>crs:</span><span class='ee-v'>EPSG:3035</span></li><li><details><summary>crs_transform: [100, 0, 900000, 0, -100, 5500000]</summary><ul><li><span class='ee-k'>0:</span><span class='ee-v'>100</span></li><li><span class='ee-k'>1:</span><span class='ee-v'>0</span></li><li><span class='ee-k'>2:</span><span class='ee-v'>900000</span></li><li><span class='ee-k'>3:</span><span class='ee-v'>0</span></li><li><span class='ee-k'>4:</span><span class='ee-v'>-100</span></li><li><span class='ee-k'>5:</span><span class='ee-v'>5500000</span></li></ul></details></li><li><details><summary>data_type: double</summary><ul><li><span class='ee-k'>type:</span><span class='ee-v'>PixelType</span></li><li><span class='ee-k'>max:</span><span class='ee-v'>0.98</span></li><li><span class='ee-k'>min:</span><span class='ee-v'>0.91</span></li><li><span class='ee-k'>precision:</span><span class='ee-v'>double</span></li></ul></details></li><li><details><summary>dimensions: [11, 9]</summary><ul><li><span class='ee-k'>0:</span><span class='ee-v'>11</span></li><li><span class='ee-k'>1:</span><span class='ee-v'>9</span></li></ul></details></li><li><details><summary>origin: [41323, 24529]</summary><ul><li><span class='ee-k'>0:</span><span class='ee-v'>41323</span></li><li><span class='ee-k'>1:</span><span class='ee-v'>24529</span></li></ul></details></li></ul></details></li><li><details><summary>2: \"TB_1\", double, EPSG:32634, 31x26 px</summary><ul><li><span class='ee-k'>id:</span><span class='ee-v'>TB_1</span></li><li><span class='ee-k'>crs:</span><span class='ee-v'>EPSG:32634</span></li><li><details><summary>crs_transform: [30, 0, 305685, 0, -30, 5690715]</summary><ul><li><span class='ee-k'>0:</span><span class='ee-v'>30</span></li><li><span class='ee-k'>1:</span><span class='ee-v'>0</span></li><li><span class='ee-k'>2:</span><span class='ee-v'>305685</span></li><li><span class='ee-k'>3:</span><span class='ee-v'>0</span></li><li><span class='ee-k'>4:</span><span class='ee-v'>-30</span></li><li><span class='ee-k'>5:</span><span class='ee-v'>5690715</span></li></ul></details></li><li><details><summary>data_type: double</summary><ul><li><span class='ee-k'>type:</span><span class='ee-v'>PixelType</span></li><li><span class='ee-k'>max:</span><span class='ee-v'>372.9999407</span></li><li><span class='ee-k'>min:</span><span class='ee-v'>149</span></li><li><span class='ee-k'>precision:</span><span class='ee-v'>double</span></li></ul></details></li><li><details><summary>dimensions: [31, 26]</summary><ul><li><span class='ee-k'>0:</span><span class='ee-v'>31</span></li><li><span class='ee-k'>1:</span><span class='ee-v'>26</span></li></ul></details></li><li><details><summary>origin: [4036, 4687]</summary><ul><li><span class='ee-k'>0:</span><span class='ee-v'>4036</span></li><li><span class='ee-k'>1:</span><span class='ee-v'>4687</span></li></ul></details></li></ul></details></li></ul></details></li><li><details><summary>properties: Object (2 properties)</summary><ul><li><details><summary>system:footprint: Polygon (5 vertices)</summary><ul><li><span class='ee-k'>type:</span><span class='ee-v'>Polygon</span></li><li><details><summary>coordinates: List (1 element)</summary><ul><li><details><summary>0: List (5 elements)</summary><ul><li><details><summary>0: [19.976200000000002, 50.092000000000006]</summary><ul><li><span class='ee-k'>0:</span><span class='ee-v'>19.976200000000002</span></li><li><span class='ee-k'>1:</span><span class='ee-v'>50.092000000000006</span></li></ul></details></li><li><details><summary>1: [19.988899999999997, 50.092000000000006]</summary><ul><li><span class='ee-k'>0:</span><span class='ee-v'>19.988899999999997</span></li><li><span class='ee-k'>1:</span><span class='ee-v'>50.092000000000006</span></li></ul></details></li><li><details><summary>2: [19.988899999999997, 50.0986]</summary><ul><li><span class='ee-k'>0:</span><span class='ee-v'>19.988899999999997</span></li><li><span class='ee-k'>1:</span><span class='ee-v'>50.0986</span></li></ul></details></li><li><details><summary>3: [19.976200000000002, 50.0986]</summary><ul><li><span class='ee-k'>0:</span><span class='ee-v'>19.976200000000002</span></li><li><span class='ee-k'>1:</span><span class='ee-v'>50.0986</span></li></ul></details></li><li><details><summary>4: [19.976200000000002, 50.092000000000006]</summary><ul><li><span class='ee-k'>0:</span><span class='ee-v'>19.976200000000002</span></li><li><span class='ee-k'>1:</span><span class='ee-v'>50.092000000000006</span></li></ul></details></li></ul></details></li></ul></details></li></ul></details></li><li><span class='ee-k'>system:index:</span><span class='ee-v'>1</span></li></ul></details></li></ul></details></li></ul></details></li></ul></details></li></ul></div></div>"
      ],
      "text/plain": [
       "<ee.imagecollection.ImageCollection at 0x234faed3eb0>"
      ]
     },
     "execution_count": 8,
     "metadata": {},
     "output_type": "execute_result"
    }
   ],
   "source": [
    "image_2013 = tb_2013.addBands(emissivity).addBands(tb_2013)\n",
    "image_2023 = tb_2023.addBands(emissivity).addBands(tb_2023)\n",
    "collection = ee.ImageCollection([image_2013, image_2023])\n",
    "collection"
   ]
  },
  {
   "cell_type": "markdown",
   "id": "dd518aea",
   "metadata": {},
   "source": [
    "## Step 5: Calculate LST using the formula:\n",
    "$$\n",
    "LST = \\frac{T_B}{1 + \\left( \\frac{\\lambda \\cdot T_B}{c_2} \\right) \\cdot \\ln(\\varepsilon)}\n",
    "$$\n",
    "- λ = 10.8 µm\n",
    "- c₂ = 14388 µm·K"
   ]
  },
  {
   "cell_type": "code",
   "execution_count": 12,
   "id": "171008bc",
   "metadata": {},
   "outputs": [
    {
     "data": {
      "text/html": [
       "\n",
       "            <style>\n",
       "                .geemap-dark {\n",
       "                    --jp-widgets-color: white;\n",
       "                    --jp-widgets-label-color: white;\n",
       "                    --jp-ui-font-color1: white;\n",
       "                    --jp-layout-color2: #454545;\n",
       "                    background-color: #383838;\n",
       "                }\n",
       "\n",
       "                .geemap-dark .jupyter-button {\n",
       "                    --jp-layout-color3: #383838;\n",
       "                }\n",
       "\n",
       "                .geemap-colab {\n",
       "                    background-color: var(--colab-primary-surface-color, white);\n",
       "                }\n",
       "\n",
       "                .geemap-colab .jupyter-button {\n",
       "                    --jp-layout-color3: var(--colab-primary-surface-color, white);\n",
       "                }\n",
       "            </style>\n",
       "            "
      ],
      "text/plain": [
       "<IPython.core.display.HTML object>"
      ]
     },
     "metadata": {},
     "output_type": "display_data"
    },
    {
     "data": {
      "text/html": [
       "<div><style>:root {\n",
       "  --font-color-primary: var(--jp-content-font-color0, rgba(0, 0, 0, 1));\n",
       "  --font-color-secondary: var(--jp-content-font-color2, rgba(0, 0, 0, 0.7));\n",
       "  --font-color-accent: rgba(123, 31, 162, 1);\n",
       "  --border-color: var(--jp-border-color2, #e0e0e0);\n",
       "  --background-color: var(--jp-layout-color0, white);\n",
       "  --background-color-row-even: var(--jp-layout-color1, white);\n",
       "  --background-color-row-odd: var(--jp-layout-color2, #eeeeee);\n",
       "}\n",
       "\n",
       "html[theme=\"dark\"],\n",
       "body[data-theme=\"dark\"],\n",
       "body.vscode-dark {\n",
       "  --font-color-primary: rgba(255, 255, 255, 1);\n",
       "  --font-color-secondary: rgba(255, 255, 255, 0.7);\n",
       "  --font-color-accent: rgb(173, 132, 190);\n",
       "  --border-color: #2e2e2e;\n",
       "  --background-color: #111111;\n",
       "  --background-color-row-even: #111111;\n",
       "  --background-color-row-odd: #313131;\n",
       "}\n",
       "\n",
       ".eerepr {\n",
       "  padding: 1em;\n",
       "  line-height: 1.5em;\n",
       "  min-width: 300px;\n",
       "  max-width: 1200px;\n",
       "  overflow-y: scroll;\n",
       "  max-height: 600px;\n",
       "  border: 1px solid var(--border-color);\n",
       "  font-family: monospace;\n",
       "  font-size: 14px;\n",
       "}\n",
       "\n",
       ".eerepr li {\n",
       "  list-style-type: none;\n",
       "  margin: 0;\n",
       "}\n",
       "\n",
       ".eerepr ul {\n",
       "  padding-left: 1.5em !important;\n",
       "  margin: 0;\n",
       "}\n",
       "\n",
       ".eerepr > ul {\n",
       "  padding-left: 0 !important;\n",
       "}\n",
       "\n",
       ".eerepr summary {\n",
       "  color: var(--font-color-secondary);\n",
       "  cursor: pointer;\n",
       "  margin: 0;\n",
       "}\n",
       "\n",
       ".eerepr summary:hover {\n",
       "  color: var(--font-color-primary);\n",
       "  background-color: var(--background-color-row-odd)\n",
       "}\n",
       "\n",
       ".ee-k {\n",
       "  color: var(--font-color-accent);\n",
       "  margin-right: 6px;\n",
       "}\n",
       "\n",
       ".ee-v {\n",
       "  color: var(--font-color-primary);\n",
       "}\n",
       "\n",
       ".eerepr details > summary::before {\n",
       "  content: '▼';\n",
       "  display: inline-block;\n",
       "  margin-right: 6px;\n",
       "  transition: transform 0.2s;\n",
       "  transform: rotate(-90deg);\n",
       "}\n",
       "\n",
       ".eerepr details[open] > summary::before {\n",
       "  transform: rotate(0deg);\n",
       "}\n",
       "\n",
       ".eerepr details summary::-webkit-details-marker {\n",
       "  display:none;\n",
       "}\n",
       "\n",
       ".eerepr details summary {\n",
       "  list-style-type: none;\n",
       "}\n",
       "</style><div class='eerepr'><ul><li><details><summary>ImageCollection (2 elements)</summary><ul><li><span class='ee-k'>type:</span><span class='ee-v'>ImageCollection</span></li><li><details><summary>bands: []</summary><ul></ul></details></li><li><details><summary>features: List (2 elements)</summary><ul><li><details><summary>0: Image (4 bands)</summary><ul><li><span class='ee-k'>type:</span><span class='ee-v'>Image</span></li><li><details><summary>bands: List (4 elements)</summary><ul><li><details><summary>0: \"TB\", double, EPSG:32634, 31x26 px</summary><ul><li><span class='ee-k'>id:</span><span class='ee-v'>TB</span></li><li><span class='ee-k'>crs:</span><span class='ee-v'>EPSG:32634</span></li><li><details><summary>crs_transform: [30, 0, 304185, 0, -30, 5684415]</summary><ul><li><span class='ee-k'>0:</span><span class='ee-v'>30</span></li><li><span class='ee-k'>1:</span><span class='ee-v'>0</span></li><li><span class='ee-k'>2:</span><span class='ee-v'>304185</span></li><li><span class='ee-k'>3:</span><span class='ee-v'>0</span></li><li><span class='ee-k'>4:</span><span class='ee-v'>-30</span></li><li><span class='ee-k'>5:</span><span class='ee-v'>5684415</span></li></ul></details></li><li><details><summary>data_type: double</summary><ul><li><span class='ee-k'>type:</span><span class='ee-v'>PixelType</span></li><li><span class='ee-k'>max:</span><span class='ee-v'>372.9999407</span></li><li><span class='ee-k'>min:</span><span class='ee-v'>149</span></li><li><span class='ee-k'>precision:</span><span class='ee-v'>double</span></li></ul></details></li><li><details><summary>dimensions: [31, 26]</summary><ul><li><span class='ee-k'>0:</span><span class='ee-v'>31</span></li><li><span class='ee-k'>1:</span><span class='ee-v'>26</span></li></ul></details></li><li><details><summary>origin: [4086, 4477]</summary><ul><li><span class='ee-k'>0:</span><span class='ee-v'>4086</span></li><li><span class='ee-k'>1:</span><span class='ee-v'>4477</span></li></ul></details></li></ul></details></li><li><details><summary>1: \"emissivity\", double, EPSG:3035, 11x9 px</summary><ul><li><span class='ee-k'>id:</span><span class='ee-v'>emissivity</span></li><li><span class='ee-k'>crs:</span><span class='ee-v'>EPSG:3035</span></li><li><details><summary>crs_transform: [100, 0, 900000, 0, -100, 5500000]</summary><ul><li><span class='ee-k'>0:</span><span class='ee-v'>100</span></li><li><span class='ee-k'>1:</span><span class='ee-v'>0</span></li><li><span class='ee-k'>2:</span><span class='ee-v'>900000</span></li><li><span class='ee-k'>3:</span><span class='ee-v'>0</span></li><li><span class='ee-k'>4:</span><span class='ee-v'>-100</span></li><li><span class='ee-k'>5:</span><span class='ee-v'>5500000</span></li></ul></details></li><li><details><summary>data_type: double</summary><ul><li><span class='ee-k'>type:</span><span class='ee-v'>PixelType</span></li><li><span class='ee-k'>max:</span><span class='ee-v'>0.98</span></li><li><span class='ee-k'>min:</span><span class='ee-v'>0.91</span></li><li><span class='ee-k'>precision:</span><span class='ee-v'>double</span></li></ul></details></li><li><details><summary>dimensions: [11, 9]</summary><ul><li><span class='ee-k'>0:</span><span class='ee-v'>11</span></li><li><span class='ee-k'>1:</span><span class='ee-v'>9</span></li></ul></details></li><li><details><summary>origin: [41323, 24529]</summary><ul><li><span class='ee-k'>0:</span><span class='ee-v'>41323</span></li><li><span class='ee-k'>1:</span><span class='ee-v'>24529</span></li></ul></details></li></ul></details></li><li><details><summary>2: \"TB_1\", double, EPSG:32634, 31x26 px</summary><ul><li><span class='ee-k'>id:</span><span class='ee-v'>TB_1</span></li><li><span class='ee-k'>crs:</span><span class='ee-v'>EPSG:32634</span></li><li><details><summary>crs_transform: [30, 0, 304185, 0, -30, 5684415]</summary><ul><li><span class='ee-k'>0:</span><span class='ee-v'>30</span></li><li><span class='ee-k'>1:</span><span class='ee-v'>0</span></li><li><span class='ee-k'>2:</span><span class='ee-v'>304185</span></li><li><span class='ee-k'>3:</span><span class='ee-v'>0</span></li><li><span class='ee-k'>4:</span><span class='ee-v'>-30</span></li><li><span class='ee-k'>5:</span><span class='ee-v'>5684415</span></li></ul></details></li><li><details><summary>data_type: double</summary><ul><li><span class='ee-k'>type:</span><span class='ee-v'>PixelType</span></li><li><span class='ee-k'>max:</span><span class='ee-v'>372.9999407</span></li><li><span class='ee-k'>min:</span><span class='ee-v'>149</span></li><li><span class='ee-k'>precision:</span><span class='ee-v'>double</span></li></ul></details></li><li><details><summary>dimensions: [31, 26]</summary><ul><li><span class='ee-k'>0:</span><span class='ee-v'>31</span></li><li><span class='ee-k'>1:</span><span class='ee-v'>26</span></li></ul></details></li><li><details><summary>origin: [4086, 4477]</summary><ul><li><span class='ee-k'>0:</span><span class='ee-v'>4086</span></li><li><span class='ee-k'>1:</span><span class='ee-v'>4477</span></li></ul></details></li></ul></details></li><li><details><summary>3: \"LST\", double, EPSG:32634, 31x26 px</summary><ul><li><span class='ee-k'>id:</span><span class='ee-v'>LST</span></li><li><span class='ee-k'>crs:</span><span class='ee-v'>EPSG:32634</span></li><li><details><summary>crs_transform: [30, 0, 304185, 0, -30, 5684415]</summary><ul><li><span class='ee-k'>0:</span><span class='ee-v'>30</span></li><li><span class='ee-k'>1:</span><span class='ee-v'>0</span></li><li><span class='ee-k'>2:</span><span class='ee-v'>304185</span></li><li><span class='ee-k'>3:</span><span class='ee-v'>0</span></li><li><span class='ee-k'>4:</span><span class='ee-v'>-30</span></li><li><span class='ee-k'>5:</span><span class='ee-v'>5684415</span></li></ul></details></li><li><details><summary>data_type: double</summary><ul><li><span class='ee-k'>type:</span><span class='ee-v'>PixelType</span></li><li><span class='ee-k'>precision:</span><span class='ee-v'>double</span></li></ul></details></li><li><details><summary>dimensions: [31, 26]</summary><ul><li><span class='ee-k'>0:</span><span class='ee-v'>31</span></li><li><span class='ee-k'>1:</span><span class='ee-v'>26</span></li></ul></details></li><li><details><summary>origin: [4086, 4477]</summary><ul><li><span class='ee-k'>0:</span><span class='ee-v'>4086</span></li><li><span class='ee-k'>1:</span><span class='ee-v'>4477</span></li></ul></details></li></ul></details></li></ul></details></li><li><details><summary>properties: Object (2 properties)</summary><ul><li><details><summary>system:footprint: Polygon (5 vertices)</summary><ul><li><span class='ee-k'>type:</span><span class='ee-v'>Polygon</span></li><li><details><summary>coordinates: List (1 element)</summary><ul><li><details><summary>0: List (5 elements)</summary><ul><li><details><summary>0: [19.976200000000002, 50.092000000000006]</summary><ul><li><span class='ee-k'>0:</span><span class='ee-v'>19.976200000000002</span></li><li><span class='ee-k'>1:</span><span class='ee-v'>50.092000000000006</span></li></ul></details></li><li><details><summary>1: [19.988899999999997, 50.092000000000006]</summary><ul><li><span class='ee-k'>0:</span><span class='ee-v'>19.988899999999997</span></li><li><span class='ee-k'>1:</span><span class='ee-v'>50.092000000000006</span></li></ul></details></li><li><details><summary>2: [19.988899999999997, 50.0986]</summary><ul><li><span class='ee-k'>0:</span><span class='ee-v'>19.988899999999997</span></li><li><span class='ee-k'>1:</span><span class='ee-v'>50.0986</span></li></ul></details></li><li><details><summary>3: [19.976200000000002, 50.0986]</summary><ul><li><span class='ee-k'>0:</span><span class='ee-v'>19.976200000000002</span></li><li><span class='ee-k'>1:</span><span class='ee-v'>50.0986</span></li></ul></details></li><li><details><summary>4: [19.976200000000002, 50.092000000000006]</summary><ul><li><span class='ee-k'>0:</span><span class='ee-v'>19.976200000000002</span></li><li><span class='ee-k'>1:</span><span class='ee-v'>50.092000000000006</span></li></ul></details></li></ul></details></li></ul></details></li></ul></details></li><li><span class='ee-k'>system:index:</span><span class='ee-v'>0</span></li></ul></details></li></ul></details></li><li><details><summary>1: Image (4 bands)</summary><ul><li><span class='ee-k'>type:</span><span class='ee-v'>Image</span></li><li><details><summary>bands: List (4 elements)</summary><ul><li><details><summary>0: \"TB\", double, EPSG:32634, 31x26 px</summary><ul><li><span class='ee-k'>id:</span><span class='ee-v'>TB</span></li><li><span class='ee-k'>crs:</span><span class='ee-v'>EPSG:32634</span></li><li><details><summary>crs_transform: [30, 0, 305685, 0, -30, 5690715]</summary><ul><li><span class='ee-k'>0:</span><span class='ee-v'>30</span></li><li><span class='ee-k'>1:</span><span class='ee-v'>0</span></li><li><span class='ee-k'>2:</span><span class='ee-v'>305685</span></li><li><span class='ee-k'>3:</span><span class='ee-v'>0</span></li><li><span class='ee-k'>4:</span><span class='ee-v'>-30</span></li><li><span class='ee-k'>5:</span><span class='ee-v'>5690715</span></li></ul></details></li><li><details><summary>data_type: double</summary><ul><li><span class='ee-k'>type:</span><span class='ee-v'>PixelType</span></li><li><span class='ee-k'>max:</span><span class='ee-v'>372.9999407</span></li><li><span class='ee-k'>min:</span><span class='ee-v'>149</span></li><li><span class='ee-k'>precision:</span><span class='ee-v'>double</span></li></ul></details></li><li><details><summary>dimensions: [31, 26]</summary><ul><li><span class='ee-k'>0:</span><span class='ee-v'>31</span></li><li><span class='ee-k'>1:</span><span class='ee-v'>26</span></li></ul></details></li><li><details><summary>origin: [4036, 4687]</summary><ul><li><span class='ee-k'>0:</span><span class='ee-v'>4036</span></li><li><span class='ee-k'>1:</span><span class='ee-v'>4687</span></li></ul></details></li></ul></details></li><li><details><summary>1: \"emissivity\", double, EPSG:3035, 11x9 px</summary><ul><li><span class='ee-k'>id:</span><span class='ee-v'>emissivity</span></li><li><span class='ee-k'>crs:</span><span class='ee-v'>EPSG:3035</span></li><li><details><summary>crs_transform: [100, 0, 900000, 0, -100, 5500000]</summary><ul><li><span class='ee-k'>0:</span><span class='ee-v'>100</span></li><li><span class='ee-k'>1:</span><span class='ee-v'>0</span></li><li><span class='ee-k'>2:</span><span class='ee-v'>900000</span></li><li><span class='ee-k'>3:</span><span class='ee-v'>0</span></li><li><span class='ee-k'>4:</span><span class='ee-v'>-100</span></li><li><span class='ee-k'>5:</span><span class='ee-v'>5500000</span></li></ul></details></li><li><details><summary>data_type: double</summary><ul><li><span class='ee-k'>type:</span><span class='ee-v'>PixelType</span></li><li><span class='ee-k'>max:</span><span class='ee-v'>0.98</span></li><li><span class='ee-k'>min:</span><span class='ee-v'>0.91</span></li><li><span class='ee-k'>precision:</span><span class='ee-v'>double</span></li></ul></details></li><li><details><summary>dimensions: [11, 9]</summary><ul><li><span class='ee-k'>0:</span><span class='ee-v'>11</span></li><li><span class='ee-k'>1:</span><span class='ee-v'>9</span></li></ul></details></li><li><details><summary>origin: [41323, 24529]</summary><ul><li><span class='ee-k'>0:</span><span class='ee-v'>41323</span></li><li><span class='ee-k'>1:</span><span class='ee-v'>24529</span></li></ul></details></li></ul></details></li><li><details><summary>2: \"TB_1\", double, EPSG:32634, 31x26 px</summary><ul><li><span class='ee-k'>id:</span><span class='ee-v'>TB_1</span></li><li><span class='ee-k'>crs:</span><span class='ee-v'>EPSG:32634</span></li><li><details><summary>crs_transform: [30, 0, 305685, 0, -30, 5690715]</summary><ul><li><span class='ee-k'>0:</span><span class='ee-v'>30</span></li><li><span class='ee-k'>1:</span><span class='ee-v'>0</span></li><li><span class='ee-k'>2:</span><span class='ee-v'>305685</span></li><li><span class='ee-k'>3:</span><span class='ee-v'>0</span></li><li><span class='ee-k'>4:</span><span class='ee-v'>-30</span></li><li><span class='ee-k'>5:</span><span class='ee-v'>5690715</span></li></ul></details></li><li><details><summary>data_type: double</summary><ul><li><span class='ee-k'>type:</span><span class='ee-v'>PixelType</span></li><li><span class='ee-k'>max:</span><span class='ee-v'>372.9999407</span></li><li><span class='ee-k'>min:</span><span class='ee-v'>149</span></li><li><span class='ee-k'>precision:</span><span class='ee-v'>double</span></li></ul></details></li><li><details><summary>dimensions: [31, 26]</summary><ul><li><span class='ee-k'>0:</span><span class='ee-v'>31</span></li><li><span class='ee-k'>1:</span><span class='ee-v'>26</span></li></ul></details></li><li><details><summary>origin: [4036, 4687]</summary><ul><li><span class='ee-k'>0:</span><span class='ee-v'>4036</span></li><li><span class='ee-k'>1:</span><span class='ee-v'>4687</span></li></ul></details></li></ul></details></li><li><details><summary>3: \"LST\", double, EPSG:32634, 31x26 px</summary><ul><li><span class='ee-k'>id:</span><span class='ee-v'>LST</span></li><li><span class='ee-k'>crs:</span><span class='ee-v'>EPSG:32634</span></li><li><details><summary>crs_transform: [30, 0, 305685, 0, -30, 5690715]</summary><ul><li><span class='ee-k'>0:</span><span class='ee-v'>30</span></li><li><span class='ee-k'>1:</span><span class='ee-v'>0</span></li><li><span class='ee-k'>2:</span><span class='ee-v'>305685</span></li><li><span class='ee-k'>3:</span><span class='ee-v'>0</span></li><li><span class='ee-k'>4:</span><span class='ee-v'>-30</span></li><li><span class='ee-k'>5:</span><span class='ee-v'>5690715</span></li></ul></details></li><li><details><summary>data_type: double</summary><ul><li><span class='ee-k'>type:</span><span class='ee-v'>PixelType</span></li><li><span class='ee-k'>precision:</span><span class='ee-v'>double</span></li></ul></details></li><li><details><summary>dimensions: [31, 26]</summary><ul><li><span class='ee-k'>0:</span><span class='ee-v'>31</span></li><li><span class='ee-k'>1:</span><span class='ee-v'>26</span></li></ul></details></li><li><details><summary>origin: [4036, 4687]</summary><ul><li><span class='ee-k'>0:</span><span class='ee-v'>4036</span></li><li><span class='ee-k'>1:</span><span class='ee-v'>4687</span></li></ul></details></li></ul></details></li></ul></details></li><li><details><summary>properties: Object (2 properties)</summary><ul><li><details><summary>system:footprint: Polygon (5 vertices)</summary><ul><li><span class='ee-k'>type:</span><span class='ee-v'>Polygon</span></li><li><details><summary>coordinates: List (1 element)</summary><ul><li><details><summary>0: List (5 elements)</summary><ul><li><details><summary>0: [19.976200000000002, 50.092000000000006]</summary><ul><li><span class='ee-k'>0:</span><span class='ee-v'>19.976200000000002</span></li><li><span class='ee-k'>1:</span><span class='ee-v'>50.092000000000006</span></li></ul></details></li><li><details><summary>1: [19.988899999999997, 50.092000000000006]</summary><ul><li><span class='ee-k'>0:</span><span class='ee-v'>19.988899999999997</span></li><li><span class='ee-k'>1:</span><span class='ee-v'>50.092000000000006</span></li></ul></details></li><li><details><summary>2: [19.988899999999997, 50.0986]</summary><ul><li><span class='ee-k'>0:</span><span class='ee-v'>19.988899999999997</span></li><li><span class='ee-k'>1:</span><span class='ee-v'>50.0986</span></li></ul></details></li><li><details><summary>3: [19.976200000000002, 50.0986]</summary><ul><li><span class='ee-k'>0:</span><span class='ee-v'>19.976200000000002</span></li><li><span class='ee-k'>1:</span><span class='ee-v'>50.0986</span></li></ul></details></li><li><details><summary>4: [19.976200000000002, 50.092000000000006]</summary><ul><li><span class='ee-k'>0:</span><span class='ee-v'>19.976200000000002</span></li><li><span class='ee-k'>1:</span><span class='ee-v'>50.092000000000006</span></li></ul></details></li></ul></details></li></ul></details></li></ul></details></li><li><span class='ee-k'>system:index:</span><span class='ee-v'>1</span></li></ul></details></li></ul></details></li></ul></details></li></ul></details></li></ul></div></div>"
      ],
      "text/plain": [
       "<ee.imagecollection.ImageCollection at 0x234fb1a6560>"
      ]
     },
     "execution_count": 12,
     "metadata": {},
     "output_type": "execute_result"
    }
   ],
   "source": [
    "# Calculate LST\n",
    "def compute_lst(image):\n",
    "    lst = image.expression(\n",
    "        ' TB / (1 + (lambda_ * TB / c2) * log(eps))',\n",
    "        {\n",
    "            'TB': image.select('TB'),\n",
    "            'eps': image.select('emissivity'),\n",
    "            'lambda_': 0.014387,\n",
    "            'c2': 14388.0\n",
    "        }\n",
    "    ).rename('LST')\n",
    "    \n",
    "    return image.addBands(lst)\n",
    "\n",
    "collection_lst = collection.map(compute_lst)\n",
    "collection_lst"
   ]
  },
  {
   "cell_type": "markdown",
   "id": "ffdeffa4",
   "metadata": {},
   "source": [
    "## Step 6: Visualize the LST result\n",
    "- Use palette: `['blue', 'yellow', 'red']`\n",
    "- Suggested range: `min=290`, `max=325`"
   ]
  },
  {
   "cell_type": "code",
   "execution_count": 13,
   "id": "b4d0f08e",
   "metadata": {},
   "outputs": [
    {
     "data": {
      "text/html": [
       "\n",
       "            <style>\n",
       "                .geemap-dark {\n",
       "                    --jp-widgets-color: white;\n",
       "                    --jp-widgets-label-color: white;\n",
       "                    --jp-ui-font-color1: white;\n",
       "                    --jp-layout-color2: #454545;\n",
       "                    background-color: #383838;\n",
       "                }\n",
       "\n",
       "                .geemap-dark .jupyter-button {\n",
       "                    --jp-layout-color3: #383838;\n",
       "                }\n",
       "\n",
       "                .geemap-colab {\n",
       "                    background-color: var(--colab-primary-surface-color, white);\n",
       "                }\n",
       "\n",
       "                .geemap-colab .jupyter-button {\n",
       "                    --jp-layout-color3: var(--colab-primary-surface-color, white);\n",
       "                }\n",
       "            </style>\n",
       "            "
      ],
      "text/plain": [
       "<IPython.core.display.HTML object>"
      ]
     },
     "metadata": {},
     "output_type": "display_data"
    },
    {
     "data": {
      "application/vnd.jupyter.widget-view+json": {
       "model_id": "ca66eb03885b4817b27f0da46bf8a422",
       "version_major": 2,
       "version_minor": 0
      },
      "text/plain": [
       "Map(center=[50.09530009742444, 19.982549999985554], controls=(WidgetControl(options=['position', 'transparent_…"
      ]
     },
     "execution_count": 13,
     "metadata": {},
     "output_type": "execute_result"
    }
   ],
   "source": [
    "# Visualize LST\n",
    "lst_vis_params = {\n",
    "    'min': 290,  # Minimalna wartość temperatury w Kelvinach\n",
    "    'max': 320,  # Maksymalna wartość temperatury w Kelvinach\n",
    "    'palette': ['blue', 'green', 'yellow', 'red']  # Skala kolorów\n",
    "}\n",
    "Map2 = geemap.Map()\n",
    "Map2.centerObject(aoi, zoom=15)\n",
    "Map2.addLayer(collection_lst.select('LST').first().select('LST'), lst_vis_params, 'LST 2013')\n",
    "Map2.addLayer(collection_lst.sort('system:time_start', False).first().select('LST'), lst_vis_params, 'LST 2023')\n",
    "Map2"
   ]
  },
  {
   "cell_type": "markdown",
   "id": "74c186bf",
   "metadata": {},
   "source": [
    "## Step 7: (Optional) Analyze statistics by land cover class"
   ]
  },
  {
   "cell_type": "code",
   "execution_count": null,
   "id": "05596938",
   "metadata": {},
   "outputs": [],
   "source": []
  },
  {
   "cell_type": "markdown",
   "id": "40c948a6",
   "metadata": {},
   "source": [
    "## Step 8: (Optional - Easter Egg :)) Generate your own Land Cover Classification using TerraTorch and foundation models*\n",
    "\n",
    "Based on the example/tutorial: https://aiforgood.itu.int/event/workshop-earth-observation-foundation-models-with-prithvi-eo-2-0-and-terratorch/\n",
    "\n",
    "*to earn 5.0 grade that will make a great impact on your final grade"
   ]
  }
 ],
 "metadata": {
  "kernelspec": {
   "display_name": "eo_lab",
   "language": "python",
   "name": "python3"
  },
  "language_info": {
   "codemirror_mode": {
    "name": "ipython",
    "version": 3
   },
   "file_extension": ".py",
   "mimetype": "text/x-python",
   "name": "python",
   "nbconvert_exporter": "python",
   "pygments_lexer": "ipython3",
   "version": "3.10.16"
  }
 },
 "nbformat": 4,
 "nbformat_minor": 5
}
