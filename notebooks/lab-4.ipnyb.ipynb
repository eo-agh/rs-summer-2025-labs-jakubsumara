{
 "cells": [
  {
   "cell_type": "markdown",
   "id": "d3ac2b14",
   "metadata": {},
   "source": [
    "# Lab 4: Urban Heat Island Detection using Thermal Satellite Imagery"
   ]
  },
  {
   "cell_type": "markdown",
   "id": "94a259ca",
   "metadata": {},
   "source": [
    "## Goal\n",
    "In this exercise, you will:\n",
    "1. Select and compare two thermal satellite images from Kraków (or another city that has recently undergone intensive, thoughtless concrete development) – one from **2013** and one from **2024**.\n",
    "2. Each image must be acquired on a **hot summer day** (T > 27°C based on IMGW meteorological data).\n",
    "3. Images must have **low cloud cover** (< 20%).\n",
    "4. Visualize thermal data and analyze surface temperature differences (Urban Heat Island effect)."
   ]
  },
  {
   "cell_type": "markdown",
   "id": "cfa7c6b9",
   "metadata": {},
   "source": [
    "## Task 1: Area of Interest (AOI)\n",
    "- Define an AOI over the Reduta Street area in Kraków.\n",
    "- Use `ee.Geometry.Polygon` or `ee.Geometry.Rectangle`."
   ]
  },
  {
   "cell_type": "markdown",
   "id": "f17fe22a",
   "metadata": {},
   "source": [
    "Tutaj próbowałem szukać innych ulic które w 2013 jeszcze nie były zabudowane ale w końcu wybrałem Reduta bo na niej widać największą zmianę (2013-łąki, 2024-gęsta zabudowa)"
   ]
  },
  {
   "cell_type": "code",
   "execution_count": null,
   "id": "3c58e672",
   "metadata": {},
   "outputs": [
    {
     "data": {
      "text/html": [
       "\n",
       "            <style>\n",
       "                .geemap-dark {\n",
       "                    --jp-widgets-color: white;\n",
       "                    --jp-widgets-label-color: white;\n",
       "                    --jp-ui-font-color1: white;\n",
       "                    --jp-layout-color2: #454545;\n",
       "                    background-color: #383838;\n",
       "                }\n",
       "\n",
       "                .geemap-dark .jupyter-button {\n",
       "                    --jp-layout-color3: #383838;\n",
       "                }\n",
       "\n",
       "                .geemap-colab {\n",
       "                    background-color: var(--colab-primary-surface-color, white);\n",
       "                }\n",
       "\n",
       "                .geemap-colab .jupyter-button {\n",
       "                    --jp-layout-color3: var(--colab-primary-surface-color, white);\n",
       "                }\n",
       "            </style>\n",
       "            "
      ],
      "text/plain": [
       "<IPython.core.display.HTML object>"
      ]
     },
     "metadata": {},
     "output_type": "display_data"
    },
    {
     "name": "stdout",
     "output_type": "stream",
     "text": [
      "{'type': 'Polygon', 'coordinates': [[[19.98066, 50.094], [19.98761, 50.094], [19.98761, 50.09574], [19.98066, 50.09574], [19.98066, 50.094]]]}\n"
     ]
    },
    {
     "data": {
      "application/vnd.jupyter.widget-view+json": {
       "model_id": "47bf12b5c988472d9e0aac34586120ab",
       "version_major": 2,
       "version_minor": 0
      },
      "text/plain": [
       "Map(center=[50.095, 19.985], controls=(WidgetControl(options=['position', 'transparent_bg'], widget=SearchData…"
      ]
     },
     "execution_count": 20,
     "metadata": {},
     "output_type": "execute_result"
    }
   ],
   "source": [
    "import ee\n",
    "import geemap\n",
    "ee.Initialize(project='ee-jsumara')\n",
    "\n",
    "# Define an AOI using ee.Geometry.Rectangle\n",
    "aoi = ee.Geometry.Rectangle([19.98066, 50.09574, 19.98761, 50.09400])  # Coordinates for Reduta Street area in Kraków\n",
    "\n",
    "# Print the AOI to verify\n",
    "print(aoi.getInfo())\n",
    "\n",
    "# Create a map centered on the AOI\n",
    "Map = geemap.Map(center=(50.095, 19.985), zoom=15)\n",
    "Map.addLayer(aoi, {'color': 'red'}, \"AOI\")\n",
    "Map"
   ]
  },
  {
   "cell_type": "markdown",
   "id": "7817c68e",
   "metadata": {},
   "source": [
    "## Task 2: Download and Analyze IMGW Meteorological Data\n",
    "- Visit: [IMGW Archive](https://danepubliczne.imgw.pl/data/dane_pomiarowo_obserwacyjne/)\n",
    "- Navigate to:\n",
    "  - `dane_meteorologiczne/dobowe/synop/2013/`\n",
    "  - `dane_meteorologiczne/dobowe/synop/2024/`\n",
    "- Download `s_d_tmax.csv` for both years.\n",
    "- Filter the rows for **station ID 12566 (e.g. Kraków-Balice)**.\n",
    "- Identify days in **July or August** with **TMAX > 27°C**."
   ]
  },
  {
   "cell_type": "markdown",
   "id": "71891b6b",
   "metadata": {},
   "source": [
    "Pobieram csv bo api jest jakieś dziwne i średnio opisane... Id stacji kraków-balice: 566. Max temp kolumna 5"
   ]
  },
  {
   "cell_type": "code",
   "execution_count": null,
   "id": "89c320bd",
   "metadata": {},
   "outputs": [
    {
     "data": {
      "text/html": [
       "\n",
       "            <style>\n",
       "                .geemap-dark {\n",
       "                    --jp-widgets-color: white;\n",
       "                    --jp-widgets-label-color: white;\n",
       "                    --jp-ui-font-color1: white;\n",
       "                    --jp-layout-color2: #454545;\n",
       "                    background-color: #383838;\n",
       "                }\n",
       "\n",
       "                .geemap-dark .jupyter-button {\n",
       "                    --jp-layout-color3: #383838;\n",
       "                }\n",
       "\n",
       "                .geemap-colab {\n",
       "                    background-color: var(--colab-primary-surface-color, white);\n",
       "                }\n",
       "\n",
       "                .geemap-colab .jupyter-button {\n",
       "                    --jp-layout-color3: var(--colab-primary-surface-color, white);\n",
       "                }\n",
       "            </style>\n",
       "            "
      ],
      "text/plain": [
       "<IPython.core.display.HTML object>"
      ]
     },
     "metadata": {},
     "output_type": "display_data"
    }
   ],
   "source": [
    "import pandas as pd\n",
    "\n",
    "def extract_hot_days(filepath, station_name=\"KRAKÓW-BALICE\", tmax_threshold=27, summer_months=(7, 8)):\n",
    "\n",
    "    df = pd.read_csv(filepath, sep=\",\", encoding=\"cp1250\", header=None)\n",
    "    df.columns = [f\"col_{i}\" for i in range(df.shape[1])]\n",
    "    df_dates = df.rename(columns={\n",
    "        \"col_2\": \"year\",\n",
    "        \"col_3\": \"month\",\n",
    "        \"col_4\": \"day\"\n",
    "    })\n",
    "    df[\"date\"] = pd.to_datetime(df_dates[[\"year\", \"month\", \"day\"]], errors=\"coerce\")\n",
    "    df[\"tmax\"] = pd.to_numeric(df[\"col_5\"], errors=\"coerce\")\n",
    "    hot_days = df[\n",
    "        (df[\"date\"].dt.month.isin(summer_months)) &\n",
    "        (df[\"tmax\"] > tmax_threshold)\n",
    "    ][[\"date\", \"tmax\"]]\n",
    "\n",
    "    return hot_days.reset_index(drop=True)"
   ]
  },
  {
   "cell_type": "code",
   "execution_count": 28,
   "id": "a51503f3",
   "metadata": {},
   "outputs": [
    {
     "data": {
      "text/html": [
       "\n",
       "            <style>\n",
       "                .geemap-dark {\n",
       "                    --jp-widgets-color: white;\n",
       "                    --jp-widgets-label-color: white;\n",
       "                    --jp-ui-font-color1: white;\n",
       "                    --jp-layout-color2: #454545;\n",
       "                    background-color: #383838;\n",
       "                }\n",
       "\n",
       "                .geemap-dark .jupyter-button {\n",
       "                    --jp-layout-color3: #383838;\n",
       "                }\n",
       "\n",
       "                .geemap-colab {\n",
       "                    background-color: var(--colab-primary-surface-color, white);\n",
       "                }\n",
       "\n",
       "                .geemap-colab .jupyter-button {\n",
       "                    --jp-layout-color3: var(--colab-primary-surface-color, white);\n",
       "                }\n",
       "            </style>\n",
       "            "
      ],
      "text/plain": [
       "<IPython.core.display.HTML object>"
      ]
     },
     "metadata": {},
     "output_type": "display_data"
    },
    {
     "name": "stdout",
     "output_type": "stream",
     "text": [
      "         date  tmax\n",
      "0  2013-07-03  28.3\n",
      "1  2013-07-04  28.3\n",
      "2  2013-07-05  27.1\n",
      "3  2013-07-10  27.7\n",
      "4  2013-07-22  27.7\n",
      "5  2013-07-26  28.9\n",
      "6  2013-07-27  30.5\n",
      "7  2013-07-28  35.0\n",
      "8  2013-07-29  35.5\n",
      "9  2013-07-30  29.6\n",
      "10 2013-08-02  29.9\n",
      "11 2013-08-03  31.4\n",
      "12 2013-08-04  29.7\n",
      "13 2013-08-05  30.8\n",
      "14 2013-08-06  33.4\n",
      "15 2013-08-07  36.1\n",
      "16 2013-08-08  37.3\n",
      "17 2013-08-09  29.6\n",
      "18 2013-08-17  27.9\n",
      "19 2013-08-18  30.6\n",
      "20 2013-08-19  31.7\n",
      "         date  tmax\n",
      "0  2024-07-01  28.9\n",
      "1  2024-07-06  30.1\n",
      "2  2024-07-07  27.4\n",
      "3  2024-07-09  30.6\n",
      "4  2024-07-10  34.4\n",
      "5  2024-07-11  29.8\n",
      "6  2024-07-12  30.0\n",
      "7  2024-07-13  29.2\n",
      "8  2024-07-15  30.1\n",
      "9  2024-07-16  31.2\n",
      "10 2024-07-17  29.2\n",
      "11 2024-07-18  28.1\n",
      "12 2024-07-19  28.0\n",
      "13 2024-07-21  29.0\n",
      "14 2024-07-22  31.3\n",
      "15 2024-07-27  30.6\n",
      "16 2024-07-28  28.0\n",
      "17 2024-07-31  29.4\n",
      "18 2024-08-02  27.1\n",
      "19 2024-08-08  27.6\n",
      "20 2024-08-10  27.3\n",
      "21 2024-08-11  27.3\n",
      "22 2024-08-12  27.4\n",
      "23 2024-08-13  27.1\n",
      "24 2024-08-14  28.6\n",
      "25 2024-08-15  31.5\n",
      "26 2024-08-16  31.1\n",
      "27 2024-08-17  30.2\n",
      "28 2024-08-18  29.1\n",
      "29 2024-08-19  27.3\n",
      "30 2024-08-23  27.4\n",
      "31 2024-08-24  31.8\n",
      "32 2024-08-25  32.3\n",
      "33 2024-08-28  30.0\n",
      "34 2024-08-29  30.9\n",
      "35 2024-08-30  31.7\n",
      "36 2024-08-31  29.2\n"
     ]
    }
   ],
   "source": [
    "hot_days_2013 = extract_hot_days(\"D:/RS/rs-summer-2025-labs-jakubsumara/lab4dane/s_d_566_2013.csv\")\n",
    "print(hot_days_2013)\n",
    "hot_days_2024 = extract_hot_days(\"D:/RS/rs-summer-2025-labs-jakubsumara/lab4dane/s_d_566_2024.csv\")\n",
    "print(hot_days_2024)"
   ]
  },
  {
   "cell_type": "markdown",
   "id": "3eec1c19",
   "metadata": {},
   "source": [
    "2013 rok: widać super okres od 2 do 9 sierpnia, gdzie średnia temperatura przekracza 30 stopni Celsjusza.\n",
    "2024 rok: tutaj wybiorę jakieś zobrazowanie w datach od 6 do 22 lipca."
   ]
  },
  {
   "cell_type": "markdown",
   "id": "c7f064e5",
   "metadata": {},
   "source": [
    "## Task 3: Select Landsat 8 Images Matching These Dates\n",
    "- In Earth Engine, use `LANDSAT/LC08/C02/T1_L2` collection.\n",
    "- Apply filters:\n",
    "  - `.filterBounds(aoi)`\n",
    "  - `.filterDate()` for the matching day\n",
    "  - `.filterMetadata('CLOUD_COVER', 'less_than', 20)`\n",
    "- Try to find **one image from 2013** and **one image from 2024** that match your hot days list."
   ]
  },
  {
   "cell_type": "code",
   "execution_count": null,
   "id": "fd86abc6",
   "metadata": {},
   "outputs": [
    {
     "data": {
      "text/html": [
       "\n",
       "            <style>\n",
       "                .geemap-dark {\n",
       "                    --jp-widgets-color: white;\n",
       "                    --jp-widgets-label-color: white;\n",
       "                    --jp-ui-font-color1: white;\n",
       "                    --jp-layout-color2: #454545;\n",
       "                    background-color: #383838;\n",
       "                }\n",
       "\n",
       "                .geemap-dark .jupyter-button {\n",
       "                    --jp-layout-color3: #383838;\n",
       "                }\n",
       "\n",
       "                .geemap-colab {\n",
       "                    background-color: var(--colab-primary-surface-color, white);\n",
       "                }\n",
       "\n",
       "                .geemap-colab .jupyter-button {\n",
       "                    --jp-layout-color3: var(--colab-primary-surface-color, white);\n",
       "                }\n",
       "            </style>\n",
       "            "
      ],
      "text/plain": [
       "<IPython.core.display.HTML object>"
      ]
     },
     "metadata": {},
     "output_type": "display_data"
    }
   ],
   "source": [
    "#Landsat 9 działa od 2021 roku więc wybieram Landsat 8 do obu dat, bo on wciąż wykonuje zdjęcia. Nie ograniczałem zachmurzenia\n",
    "#bo moje AOI jest małe, poza tym dla 2024 roku są 3 zobrazowania a każdme z nich ma zachmurzenie powyżej 60%, więc sprawdzałem \n",
    "#na oko czy AOI jest zakryte\n",
    "def list_landsat8_images(aoi, start_date, end_date):\n",
    "    # Filtruj kolekcję Landsat 8\n",
    "    collection = (\n",
    "        ee.ImageCollection('LANDSAT/LC08/C02/T1_L2')\n",
    "        .filterBounds(aoi)\n",
    "        .filterDate(start_date, end_date)\n",
    "        .sort('system:time_start')\n",
    "    )\n",
    "\n",
    "    def format_info(image):\n",
    "        return ee.Feature(None, {\n",
    "            'id': image.get('system:index'),\n",
    "            'date': image.date().format('YYYY-MM-dd'),\n",
    "            'cloud': image.get('CLOUD_COVER')\n",
    "        })\n",
    "\n",
    "    image_info_fc = collection.map(format_info)\n",
    "\n",
    "    # Wyciągnij dane jako listę\n",
    "    dates = image_info_fc.aggregate_array('date').getInfo()\n",
    "    ids = image_info_fc.aggregate_array('id').getInfo()\n",
    "    clouds = image_info_fc.aggregate_array('cloud').getInfo()\n",
    "\n",
    "    result = [\n",
    "        {'date': dates[i], 'id': ids[i], 'cloud_cover': clouds[i]}\n",
    "        for i in range(len(dates))\n",
    "    ]\n",
    "    return result"
   ]
  },
  {
   "cell_type": "code",
   "execution_count": 38,
   "id": "53713760",
   "metadata": {},
   "outputs": [
    {
     "data": {
      "text/html": [
       "\n",
       "            <style>\n",
       "                .geemap-dark {\n",
       "                    --jp-widgets-color: white;\n",
       "                    --jp-widgets-label-color: white;\n",
       "                    --jp-ui-font-color1: white;\n",
       "                    --jp-layout-color2: #454545;\n",
       "                    background-color: #383838;\n",
       "                }\n",
       "\n",
       "                .geemap-dark .jupyter-button {\n",
       "                    --jp-layout-color3: #383838;\n",
       "                }\n",
       "\n",
       "                .geemap-colab {\n",
       "                    background-color: var(--colab-primary-surface-color, white);\n",
       "                }\n",
       "\n",
       "                .geemap-colab .jupyter-button {\n",
       "                    --jp-layout-color3: var(--colab-primary-surface-color, white);\n",
       "                }\n",
       "            </style>\n",
       "            "
      ],
      "text/plain": [
       "<IPython.core.display.HTML object>"
      ]
     },
     "metadata": {},
     "output_type": "display_data"
    },
    {
     "name": "stdout",
     "output_type": "stream",
     "text": [
      "2013-07-06 | ID: LC08_188025_20130706 | Cloud cover: 93.37%\n",
      "2013-07-22 | ID: LC08_188025_20130722 | Cloud cover: 8.95%\n",
      "2013-08-07 | ID: LC08_188025_20130807 | Cloud cover: 0.54%\n",
      "2013-08-23 | ID: LC08_188025_20130823 | Cloud cover: 50.94%\n",
      "2024-07-04 | ID: LC08_188025_20240704 | Cloud cover: 70.55%\n",
      "2024-07-20 | ID: LC08_188025_20240720 | Cloud cover: 83.8%\n",
      "2024-08-21 | ID: LC08_188025_20240821 | Cloud cover: 62.14%\n"
     ]
    }
   ],
   "source": [
    "images = list_landsat8_images(aoi, '2013-07-01', '2013-08-31')\n",
    "\n",
    "for img in images:\n",
    "    print(f\"{img['date']} | ID: {img['id']} | Cloud cover: {img['cloud_cover']}%\")\n",
    "\n",
    "images = list_landsat8_images(aoi, '2024-07-01', '2024-08-31')\n",
    "\n",
    "for img in images:\n",
    "    print(f\"{img['date']} | ID: {img['id']} | Cloud cover: {img['cloud_cover']}%\")"
   ]
  },
  {
   "cell_type": "code",
   "execution_count": 56,
   "id": "43fc3814",
   "metadata": {},
   "outputs": [
    {
     "data": {
      "text/html": [
       "\n",
       "            <style>\n",
       "                .geemap-dark {\n",
       "                    --jp-widgets-color: white;\n",
       "                    --jp-widgets-label-color: white;\n",
       "                    --jp-ui-font-color1: white;\n",
       "                    --jp-layout-color2: #454545;\n",
       "                    background-color: #383838;\n",
       "                }\n",
       "\n",
       "                .geemap-dark .jupyter-button {\n",
       "                    --jp-layout-color3: #383838;\n",
       "                }\n",
       "\n",
       "                .geemap-colab {\n",
       "                    background-color: var(--colab-primary-surface-color, white);\n",
       "                }\n",
       "\n",
       "                .geemap-colab .jupyter-button {\n",
       "                    --jp-layout-color3: var(--colab-primary-surface-color, white);\n",
       "                }\n",
       "            </style>\n",
       "            "
      ],
      "text/plain": [
       "<IPython.core.display.HTML object>"
      ]
     },
     "metadata": {},
     "output_type": "display_data"
    },
    {
     "data": {
      "application/vnd.jupyter.widget-view+json": {
       "model_id": "39fe23cf0f7749e39ee898785a9937c0",
       "version_major": 2,
       "version_minor": 0
      },
      "text/plain": [
       "Map(center=[50.093, 20.015], controls=(WidgetControl(options=['position', 'transparent_bg'], widget=SearchData…"
      ]
     },
     "execution_count": 56,
     "metadata": {},
     "output_type": "execute_result"
    }
   ],
   "source": [
    "# Funkcja pomocnicza do pobrania obrazu po ID\n",
    "def get_landsat8_image_by_id(image_id):\n",
    "    return ee.Image(f'LANDSAT/LC08/C02/T1_L2/{image_id}').clip(aoi)\n",
    "\n",
    "# Obrazy z wybranych dat\n",
    "image_2013 = get_landsat8_image_by_id('LC08_188025_20130807')\n",
    "image_2024_1 = get_landsat8_image_by_id('LC08_188025_20240704')\n",
    "image_2024_2 = get_landsat8_image_by_id('LC08_188025_20240720')\n",
    "#image_2024_3 = get_landsat8_image_by_id('LC08_188025_20240821')\n",
    "\n",
    "\n",
    "# Parametry RGB (prawdziwy kolor: B4, B3, B2)\n",
    "vis_params = {\n",
    "    'min': 0,\n",
    "    'max': 30000,\n",
    "    'bands': ['SR_B4', 'SR_B3', 'SR_B2']\n",
    "}\n",
    "\n",
    "# Tworzenie mapy porównawczej\n",
    "Map = geemap.Map(center=[50.093, 20.015], zoom=14)\n",
    "Map.addLayer(image_2013, vis_params, 'Landsat 8 - 2013-08-07 (0.5% cloud)')\n",
    "Map.addLayer(image_2024_1, vis_params, 'Landsat 8 - 2024-07-04 (70.55% cloud)')\n",
    "Map.addLayer(image_2024_2, vis_params, 'Landsat 8 - 2024-07-20 (83.8% cloud)')\n",
    "#Map.addLayer(image_2024_3, vis_params, 'Landsat 8 - 2024-07-20 (62.14% cloud)')\n",
    "Map.addLayer(aoi, {}, 'AOI')\n",
    "Map"
   ]
  },
  {
   "cell_type": "markdown",
   "id": "721a6015",
   "metadata": {},
   "source": [
    "## Task 4: Process Thermal Band (ST_B10)\n",
    "- Convert Band 10 to Brightness Temperature (Kelvin):\n",
    "  `TB = ST_B10 * 0.00341802 + 149.0`\n",
    "- Create a visualization of each image using the same color scale."
   ]
  },
  {
   "cell_type": "code",
   "execution_count": 64,
   "id": "7092404e",
   "metadata": {},
   "outputs": [
    {
     "data": {
      "text/html": [
       "\n",
       "            <style>\n",
       "                .geemap-dark {\n",
       "                    --jp-widgets-color: white;\n",
       "                    --jp-widgets-label-color: white;\n",
       "                    --jp-ui-font-color1: white;\n",
       "                    --jp-layout-color2: #454545;\n",
       "                    background-color: #383838;\n",
       "                }\n",
       "\n",
       "                .geemap-dark .jupyter-button {\n",
       "                    --jp-layout-color3: #383838;\n",
       "                }\n",
       "\n",
       "                .geemap-colab {\n",
       "                    background-color: var(--colab-primary-surface-color, white);\n",
       "                }\n",
       "\n",
       "                .geemap-colab .jupyter-button {\n",
       "                    --jp-layout-color3: var(--colab-primary-surface-color, white);\n",
       "                }\n",
       "            </style>\n",
       "            "
      ],
      "text/plain": [
       "<IPython.core.display.HTML object>"
      ]
     },
     "metadata": {},
     "output_type": "display_data"
    },
    {
     "data": {
      "application/vnd.jupyter.widget-view+json": {
       "model_id": "39fe23cf0f7749e39ee898785a9937c0",
       "version_major": 2,
       "version_minor": 0
      },
      "text/plain": [
       "Map(bottom=89234.0, center=[49.974188803210936, 20.20523071289063], controls=(WidgetControl(options=['position…"
      ]
     },
     "execution_count": 64,
     "metadata": {},
     "output_type": "execute_result"
    }
   ],
   "source": [
    "# Function to calculate Brightness Temperature (Kelvin) from ST_B10\n",
    "def calculate_brightness_temperature(image):\n",
    "    return image.select('ST_B10').multiply(0.00341802).add(149.0).rename('Brightness_Temperature')\n",
    "\n",
    "# Calculate Brightness Temperature for 2013 and 2024 images\n",
    "temp_2013 = calculate_brightness_temperature(image_2013)\n",
    "temp_2024 = calculate_brightness_temperature(image_2024_2)\n",
    "\n",
    "# Visualization parameters for Brightness Temperature\n",
    "vis_temp = {\n",
    "    'min': 260,\n",
    "    'max': 325,\n",
    "    'palette': ['blue', 'cyan', 'green', 'yellow', 'red']\n",
    "}\n",
    "\n",
    "# Add layers to the map\n",
    "Map.addLayer(temp_2013, vis_temp, 'Brightness Temperature 2013')\n",
    "Map.addLayer(temp_2024, vis_temp, 'Brightness Temperature 2024')\n",
    "Map\n",
    "# Function to convert Kelvin to Celsius\n",
    "def kelvin_to_celsius(image):\n",
    "    return image.subtract(273.15).rename('Temperature_Celsius')\n",
    "\n",
    "# Convert Brightness Temperature to Celsius\n",
    "temp_2013_celsius = kelvin_to_celsius(temp_2013)\n",
    "temp_2024_celsius = kelvin_to_celsius(temp_2024)\n",
    "\n",
    "# Visualization parameters for Celsius Temperature\n",
    "vis_temp_celsius = {\n",
    "    'min': -2,  # 260K in Celsius\n",
    "    'max': 41.2,   # 325K in Celsius\n",
    "    'palette': ['blue', 'cyan', 'green', 'yellow', 'red']\n",
    "}\n",
    "\n",
    "# Add Celsius layers to the map\n",
    "Map.addLayer(temp_2013_celsius, vis_temp_celsius, 'Temperature 2013 (Celsius)')\n",
    "Map.addLayer(temp_2024_celsius, vis_temp_celsius, 'Temperature 2024 (Celsius)')\n",
    "Map"
   ]
  },
  {
   "cell_type": "markdown",
   "id": "821fcc04",
   "metadata": {},
   "source": [
    "Wyniki są odwrotne niż spodziewane... Temp w 2013 to około 312 stopni a w 2024 275..."
   ]
  },
  {
   "cell_type": "code",
   "execution_count": 58,
   "id": "e2c9b5d0",
   "metadata": {},
   "outputs": [
    {
     "data": {
      "text/html": [
       "\n",
       "            <style>\n",
       "                .geemap-dark {\n",
       "                    --jp-widgets-color: white;\n",
       "                    --jp-widgets-label-color: white;\n",
       "                    --jp-ui-font-color1: white;\n",
       "                    --jp-layout-color2: #454545;\n",
       "                    background-color: #383838;\n",
       "                }\n",
       "\n",
       "                .geemap-dark .jupyter-button {\n",
       "                    --jp-layout-color3: #383838;\n",
       "                }\n",
       "\n",
       "                .geemap-colab {\n",
       "                    background-color: var(--colab-primary-surface-color, white);\n",
       "                }\n",
       "\n",
       "                .geemap-colab .jupyter-button {\n",
       "                    --jp-layout-color3: var(--colab-primary-surface-color, white);\n",
       "                }\n",
       "            </style>\n",
       "            "
      ],
      "text/plain": [
       "<IPython.core.display.HTML object>"
      ]
     },
     "metadata": {},
     "output_type": "display_data"
    },
    {
     "name": "stdout",
     "output_type": "stream",
     "text": [
      "Zakres temperatur 2013: {'ST_B10_max': 314.33988146, 'ST_B10_min': 310.34421608}\n",
      "Zakres temperatur 2024: {'ST_B10_max': 278.61815444, 'ST_B10_min': 270.44566862}\n"
     ]
    }
   ],
   "source": [
    "def check_temperature_range(image, aoi):\n",
    "    temp_image = image.select('ST_B10').multiply(0.00341802).add(149.0)\n",
    "    stats = temp_image.reduceRegion(\n",
    "        reducer=ee.Reducer.minMax(),\n",
    "        geometry=aoi,\n",
    "        scale=30,\n",
    "        bestEffort=True\n",
    "    )\n",
    "    return stats.getInfo()\n",
    "\n",
    "print(\"Zakres temperatur 2013:\", check_temperature_range(image_2013, aoi))\n",
    "print(\"Zakres temperatur 2024:\", check_temperature_range(image_2024_2, aoi))"
   ]
  },
  {
   "cell_type": "markdown",
   "id": "aa3b092a",
   "metadata": {},
   "source": [
    "## Task 5: Compare and Interpret\n",
    "- Compare the two maps.\n",
    "- Optionally calculate difference: `TB_2024 - TB_2013`\n",
    "- Discuss: did the surface temperature increase in the area?\n",
    "- Is there evidence of an Urban Heat Island effect related to development?"
   ]
  },
  {
   "cell_type": "markdown",
   "id": "67de76d8",
   "metadata": {},
   "source": [
    "## Analiza wyników\n",
    "\n",
    "Wyniki są sprzeczne z oczekiwaniami: w 2013 temperatura wynosi ~312 K (~39°C), a w 2024 ~275 K (~2°C). Spodziewano się wzrostu temperatury z powodu efektu miejskiej wyspy ciepła.\n",
    "\n",
    "### Możliwe przyczyny:\n",
    "1. **Zachmurzenie**: Obrazy z 2024 mają wysokie zachmurzenie (70.55%, 83.8%), co może zaniżać odczyty (badany obszar nie jest zachmurzony).\n",
    "2. **Błąd przetwarzania**: Możliwe problemy z danymi ST_B10 lub skalowaniem.\n",
    "3. **Warunki atmosferyczne**: Różnice w wilgotności i wiatrach mogą wpływać na wyniki.\n",
    "4. **Wybór obrazów**: Ograniczona liczba zobrazowań z 2024.\n",
    "5. **Artefakty danych**: Możliwe błędy w pasmach termalnych Landsat 8.\n",
    "\n",
    "### Wnioski:\n",
    "- Wysokie zachmurzenie zniekształca wyniki.\n",
    "- Należy zweryfikować przetwarzanie danych i rozważyć inne obrazy z mniejszym zachmurzeniem.\n"
   ]
  }
 ],
 "metadata": {
  "kernelspec": {
   "display_name": "eo_lab",
   "language": "python",
   "name": "python3"
  },
  "language_info": {
   "codemirror_mode": {
    "name": "ipython",
    "version": 3
   },
   "file_extension": ".py",
   "mimetype": "text/x-python",
   "name": "python",
   "nbconvert_exporter": "python",
   "pygments_lexer": "ipython3",
   "version": "3.10.16"
  }
 },
 "nbformat": 4,
 "nbformat_minor": 5
}
